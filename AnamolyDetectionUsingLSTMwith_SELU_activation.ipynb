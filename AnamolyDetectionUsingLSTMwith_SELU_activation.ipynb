{
  "cells": [
    {
      "cell_type": "markdown",
      "metadata": {
        "id": "view-in-github",
        "colab_type": "text"
      },
      "source": [
        "<a href=\"https://colab.research.google.com/github/MXNXV-ERR/DeepLearningsAss/blob/main/AnamolyDetectionUsingLSTMwith_SELU_activation.ipynb\" target=\"_parent\"><img src=\"https://colab.research.google.com/assets/colab-badge.svg\" alt=\"Open In Colab\"/></a>"
      ]
    },
    {
      "cell_type": "code",
      "execution_count": null,
      "metadata": {
        "id": "h8aJ5_g1JXX-"
      },
      "outputs": [],
      "source": [
        "#!pip install sklearn"
      ]
    },
    {
      "cell_type": "code",
      "execution_count": null,
      "metadata": {
        "id": "QKONnCNiJd3v"
      },
      "outputs": [],
      "source": [
        "#!pip install scikit-learn\n"
      ]
    },
    {
      "cell_type": "code",
      "execution_count": null,
      "metadata": {
        "id": "DcF9rXKGuUku"
      },
      "outputs": [],
      "source": []
    },
    {
      "cell_type": "code",
      "execution_count": null,
      "metadata": {
        "id": "RoFw863gJmZK"
      },
      "outputs": [],
      "source": [
        "import pandas as pd"
      ]
    },
    {
      "cell_type": "code",
      "execution_count": null,
      "metadata": {
        "id": "Z3ZTqwSwKwmK"
      },
      "outputs": [],
      "source": [
        "import seaborn as sns"
      ]
    },
    {
      "cell_type": "code",
      "execution_count": null,
      "metadata": {
        "id": "qlmX2K5VKyIK"
      },
      "outputs": [],
      "source": [
        "import matplotlib.pyplot as plt\n"
      ]
    },
    {
      "cell_type": "code",
      "execution_count": null,
      "metadata": {
        "id": "4m7KOSxHK5Uh"
      },
      "outputs": [],
      "source": [
        "df = pd.read_csv(\"/content/Dataset 2 .csv\")"
      ]
    },
    {
      "cell_type": "code",
      "execution_count": null,
      "metadata": {
        "colab": {
          "base_uri": "https://localhost:8080/",
          "height": 206
        },
        "id": "S-BeAd6lLNE9",
        "outputId": "82eaf058-f079-4285-f02f-3092f10973fb"
      },
      "outputs": [
        {
          "output_type": "execute_result",
          "data": {
            "text/plain": [
              "       Date\\t     Time      P1      P2       P3       P4    P5    P6   P7  \\\n",
              "0  15-10-2011  39:55.0 -0.0469 -0.0385  0.00542  0.01121  38.0  52.0  0.0   \n",
              "1  15-10-2011  39:55.6 -0.0469 -0.0385  0.00542  0.01121  38.0  52.0  0.0   \n",
              "2  15-10-2011  39:57.1 -0.0469 -0.0385  0.00542  0.01121  38.0  52.0  0.0   \n",
              "3  15-10-2011  39:58.6 -0.0469 -0.0385  0.00542  0.01121  38.0  52.0  0.0   \n",
              "4  15-10-2011  40:02.2 -0.0469 -0.0385  0.00542  0.01121  38.0  52.0  0.0   \n",
              "\n",
              "    P8   P9  \n",
              "0  0.0  0.0  \n",
              "1  0.0  0.0  \n",
              "2  0.0  0.0  \n",
              "3  0.0  0.0  \n",
              "4  0.0  0.0  "
            ],
            "text/html": [
              "\n",
              "  <div id=\"df-1aad0242-ac58-48fe-9e1f-7c97d4328a96\" class=\"colab-df-container\">\n",
              "    <div>\n",
              "<style scoped>\n",
              "    .dataframe tbody tr th:only-of-type {\n",
              "        vertical-align: middle;\n",
              "    }\n",
              "\n",
              "    .dataframe tbody tr th {\n",
              "        vertical-align: top;\n",
              "    }\n",
              "\n",
              "    .dataframe thead th {\n",
              "        text-align: right;\n",
              "    }\n",
              "</style>\n",
              "<table border=\"1\" class=\"dataframe\">\n",
              "  <thead>\n",
              "    <tr style=\"text-align: right;\">\n",
              "      <th></th>\n",
              "      <th>Date\\t</th>\n",
              "      <th>Time</th>\n",
              "      <th>P1</th>\n",
              "      <th>P2</th>\n",
              "      <th>P3</th>\n",
              "      <th>P4</th>\n",
              "      <th>P5</th>\n",
              "      <th>P6</th>\n",
              "      <th>P7</th>\n",
              "      <th>P8</th>\n",
              "      <th>P9</th>\n",
              "    </tr>\n",
              "  </thead>\n",
              "  <tbody>\n",
              "    <tr>\n",
              "      <th>0</th>\n",
              "      <td>15-10-2011</td>\n",
              "      <td>39:55.0</td>\n",
              "      <td>-0.0469</td>\n",
              "      <td>-0.0385</td>\n",
              "      <td>0.00542</td>\n",
              "      <td>0.01121</td>\n",
              "      <td>38.0</td>\n",
              "      <td>52.0</td>\n",
              "      <td>0.0</td>\n",
              "      <td>0.0</td>\n",
              "      <td>0.0</td>\n",
              "    </tr>\n",
              "    <tr>\n",
              "      <th>1</th>\n",
              "      <td>15-10-2011</td>\n",
              "      <td>39:55.6</td>\n",
              "      <td>-0.0469</td>\n",
              "      <td>-0.0385</td>\n",
              "      <td>0.00542</td>\n",
              "      <td>0.01121</td>\n",
              "      <td>38.0</td>\n",
              "      <td>52.0</td>\n",
              "      <td>0.0</td>\n",
              "      <td>0.0</td>\n",
              "      <td>0.0</td>\n",
              "    </tr>\n",
              "    <tr>\n",
              "      <th>2</th>\n",
              "      <td>15-10-2011</td>\n",
              "      <td>39:57.1</td>\n",
              "      <td>-0.0469</td>\n",
              "      <td>-0.0385</td>\n",
              "      <td>0.00542</td>\n",
              "      <td>0.01121</td>\n",
              "      <td>38.0</td>\n",
              "      <td>52.0</td>\n",
              "      <td>0.0</td>\n",
              "      <td>0.0</td>\n",
              "      <td>0.0</td>\n",
              "    </tr>\n",
              "    <tr>\n",
              "      <th>3</th>\n",
              "      <td>15-10-2011</td>\n",
              "      <td>39:58.6</td>\n",
              "      <td>-0.0469</td>\n",
              "      <td>-0.0385</td>\n",
              "      <td>0.00542</td>\n",
              "      <td>0.01121</td>\n",
              "      <td>38.0</td>\n",
              "      <td>52.0</td>\n",
              "      <td>0.0</td>\n",
              "      <td>0.0</td>\n",
              "      <td>0.0</td>\n",
              "    </tr>\n",
              "    <tr>\n",
              "      <th>4</th>\n",
              "      <td>15-10-2011</td>\n",
              "      <td>40:02.2</td>\n",
              "      <td>-0.0469</td>\n",
              "      <td>-0.0385</td>\n",
              "      <td>0.00542</td>\n",
              "      <td>0.01121</td>\n",
              "      <td>38.0</td>\n",
              "      <td>52.0</td>\n",
              "      <td>0.0</td>\n",
              "      <td>0.0</td>\n",
              "      <td>0.0</td>\n",
              "    </tr>\n",
              "  </tbody>\n",
              "</table>\n",
              "</div>\n",
              "    <div class=\"colab-df-buttons\">\n",
              "\n",
              "  <div class=\"colab-df-container\">\n",
              "    <button class=\"colab-df-convert\" onclick=\"convertToInteractive('df-1aad0242-ac58-48fe-9e1f-7c97d4328a96')\"\n",
              "            title=\"Convert this dataframe to an interactive table.\"\n",
              "            style=\"display:none;\">\n",
              "\n",
              "  <svg xmlns=\"http://www.w3.org/2000/svg\" height=\"24px\" viewBox=\"0 -960 960 960\">\n",
              "    <path d=\"M120-120v-720h720v720H120Zm60-500h600v-160H180v160Zm220 220h160v-160H400v160Zm0 220h160v-160H400v160ZM180-400h160v-160H180v160Zm440 0h160v-160H620v160ZM180-180h160v-160H180v160Zm440 0h160v-160H620v160Z\"/>\n",
              "  </svg>\n",
              "    </button>\n",
              "\n",
              "  <style>\n",
              "    .colab-df-container {\n",
              "      display:flex;\n",
              "      gap: 12px;\n",
              "    }\n",
              "\n",
              "    .colab-df-convert {\n",
              "      background-color: #E8F0FE;\n",
              "      border: none;\n",
              "      border-radius: 50%;\n",
              "      cursor: pointer;\n",
              "      display: none;\n",
              "      fill: #1967D2;\n",
              "      height: 32px;\n",
              "      padding: 0 0 0 0;\n",
              "      width: 32px;\n",
              "    }\n",
              "\n",
              "    .colab-df-convert:hover {\n",
              "      background-color: #E2EBFA;\n",
              "      box-shadow: 0px 1px 2px rgba(60, 64, 67, 0.3), 0px 1px 3px 1px rgba(60, 64, 67, 0.15);\n",
              "      fill: #174EA6;\n",
              "    }\n",
              "\n",
              "    .colab-df-buttons div {\n",
              "      margin-bottom: 4px;\n",
              "    }\n",
              "\n",
              "    [theme=dark] .colab-df-convert {\n",
              "      background-color: #3B4455;\n",
              "      fill: #D2E3FC;\n",
              "    }\n",
              "\n",
              "    [theme=dark] .colab-df-convert:hover {\n",
              "      background-color: #434B5C;\n",
              "      box-shadow: 0px 1px 3px 1px rgba(0, 0, 0, 0.15);\n",
              "      filter: drop-shadow(0px 1px 2px rgba(0, 0, 0, 0.3));\n",
              "      fill: #FFFFFF;\n",
              "    }\n",
              "  </style>\n",
              "\n",
              "    <script>\n",
              "      const buttonEl =\n",
              "        document.querySelector('#df-1aad0242-ac58-48fe-9e1f-7c97d4328a96 button.colab-df-convert');\n",
              "      buttonEl.style.display =\n",
              "        google.colab.kernel.accessAllowed ? 'block' : 'none';\n",
              "\n",
              "      async function convertToInteractive(key) {\n",
              "        const element = document.querySelector('#df-1aad0242-ac58-48fe-9e1f-7c97d4328a96');\n",
              "        const dataTable =\n",
              "          await google.colab.kernel.invokeFunction('convertToInteractive',\n",
              "                                                    [key], {});\n",
              "        if (!dataTable) return;\n",
              "\n",
              "        const docLinkHtml = 'Like what you see? Visit the ' +\n",
              "          '<a target=\"_blank\" href=https://colab.research.google.com/notebooks/data_table.ipynb>data table notebook</a>'\n",
              "          + ' to learn more about interactive tables.';\n",
              "        element.innerHTML = '';\n",
              "        dataTable['output_type'] = 'display_data';\n",
              "        await google.colab.output.renderOutput(dataTable, element);\n",
              "        const docLink = document.createElement('div');\n",
              "        docLink.innerHTML = docLinkHtml;\n",
              "        element.appendChild(docLink);\n",
              "      }\n",
              "    </script>\n",
              "  </div>\n",
              "\n",
              "\n",
              "<div id=\"df-e24adf16-0744-4b25-b021-688daac0eb5f\">\n",
              "  <button class=\"colab-df-quickchart\" onclick=\"quickchart('df-e24adf16-0744-4b25-b021-688daac0eb5f')\"\n",
              "            title=\"Suggest charts\"\n",
              "            style=\"display:none;\">\n",
              "\n",
              "<svg xmlns=\"http://www.w3.org/2000/svg\" height=\"24px\"viewBox=\"0 0 24 24\"\n",
              "     width=\"24px\">\n",
              "    <g>\n",
              "        <path d=\"M19 3H5c-1.1 0-2 .9-2 2v14c0 1.1.9 2 2 2h14c1.1 0 2-.9 2-2V5c0-1.1-.9-2-2-2zM9 17H7v-7h2v7zm4 0h-2V7h2v10zm4 0h-2v-4h2v4z\"/>\n",
              "    </g>\n",
              "</svg>\n",
              "  </button>\n",
              "\n",
              "<style>\n",
              "  .colab-df-quickchart {\n",
              "      --bg-color: #E8F0FE;\n",
              "      --fill-color: #1967D2;\n",
              "      --hover-bg-color: #E2EBFA;\n",
              "      --hover-fill-color: #174EA6;\n",
              "      --disabled-fill-color: #AAA;\n",
              "      --disabled-bg-color: #DDD;\n",
              "  }\n",
              "\n",
              "  [theme=dark] .colab-df-quickchart {\n",
              "      --bg-color: #3B4455;\n",
              "      --fill-color: #D2E3FC;\n",
              "      --hover-bg-color: #434B5C;\n",
              "      --hover-fill-color: #FFFFFF;\n",
              "      --disabled-bg-color: #3B4455;\n",
              "      --disabled-fill-color: #666;\n",
              "  }\n",
              "\n",
              "  .colab-df-quickchart {\n",
              "    background-color: var(--bg-color);\n",
              "    border: none;\n",
              "    border-radius: 50%;\n",
              "    cursor: pointer;\n",
              "    display: none;\n",
              "    fill: var(--fill-color);\n",
              "    height: 32px;\n",
              "    padding: 0;\n",
              "    width: 32px;\n",
              "  }\n",
              "\n",
              "  .colab-df-quickchart:hover {\n",
              "    background-color: var(--hover-bg-color);\n",
              "    box-shadow: 0 1px 2px rgba(60, 64, 67, 0.3), 0 1px 3px 1px rgba(60, 64, 67, 0.15);\n",
              "    fill: var(--button-hover-fill-color);\n",
              "  }\n",
              "\n",
              "  .colab-df-quickchart-complete:disabled,\n",
              "  .colab-df-quickchart-complete:disabled:hover {\n",
              "    background-color: var(--disabled-bg-color);\n",
              "    fill: var(--disabled-fill-color);\n",
              "    box-shadow: none;\n",
              "  }\n",
              "\n",
              "  .colab-df-spinner {\n",
              "    border: 2px solid var(--fill-color);\n",
              "    border-color: transparent;\n",
              "    border-bottom-color: var(--fill-color);\n",
              "    animation:\n",
              "      spin 1s steps(1) infinite;\n",
              "  }\n",
              "\n",
              "  @keyframes spin {\n",
              "    0% {\n",
              "      border-color: transparent;\n",
              "      border-bottom-color: var(--fill-color);\n",
              "      border-left-color: var(--fill-color);\n",
              "    }\n",
              "    20% {\n",
              "      border-color: transparent;\n",
              "      border-left-color: var(--fill-color);\n",
              "      border-top-color: var(--fill-color);\n",
              "    }\n",
              "    30% {\n",
              "      border-color: transparent;\n",
              "      border-left-color: var(--fill-color);\n",
              "      border-top-color: var(--fill-color);\n",
              "      border-right-color: var(--fill-color);\n",
              "    }\n",
              "    40% {\n",
              "      border-color: transparent;\n",
              "      border-right-color: var(--fill-color);\n",
              "      border-top-color: var(--fill-color);\n",
              "    }\n",
              "    60% {\n",
              "      border-color: transparent;\n",
              "      border-right-color: var(--fill-color);\n",
              "    }\n",
              "    80% {\n",
              "      border-color: transparent;\n",
              "      border-right-color: var(--fill-color);\n",
              "      border-bottom-color: var(--fill-color);\n",
              "    }\n",
              "    90% {\n",
              "      border-color: transparent;\n",
              "      border-bottom-color: var(--fill-color);\n",
              "    }\n",
              "  }\n",
              "</style>\n",
              "\n",
              "  <script>\n",
              "    async function quickchart(key) {\n",
              "      const quickchartButtonEl =\n",
              "        document.querySelector('#' + key + ' button');\n",
              "      quickchartButtonEl.disabled = true;  // To prevent multiple clicks.\n",
              "      quickchartButtonEl.classList.add('colab-df-spinner');\n",
              "      try {\n",
              "        const charts = await google.colab.kernel.invokeFunction(\n",
              "            'suggestCharts', [key], {});\n",
              "      } catch (error) {\n",
              "        console.error('Error during call to suggestCharts:', error);\n",
              "      }\n",
              "      quickchartButtonEl.classList.remove('colab-df-spinner');\n",
              "      quickchartButtonEl.classList.add('colab-df-quickchart-complete');\n",
              "    }\n",
              "    (() => {\n",
              "      let quickchartButtonEl =\n",
              "        document.querySelector('#df-e24adf16-0744-4b25-b021-688daac0eb5f button');\n",
              "      quickchartButtonEl.style.display =\n",
              "        google.colab.kernel.accessAllowed ? 'block' : 'none';\n",
              "    })();\n",
              "  </script>\n",
              "</div>\n",
              "    </div>\n",
              "  </div>\n"
            ]
          },
          "metadata": {},
          "execution_count": 7
        }
      ],
      "source": [
        "df.head()\n"
      ]
    },
    {
      "cell_type": "code",
      "execution_count": null,
      "metadata": {
        "colab": {
          "base_uri": "https://localhost:8080/",
          "height": 206
        },
        "id": "HEPh7bCdMXDd",
        "outputId": "72d4db7c-a326-4643-a45d-e3430c5e3bbc"
      },
      "outputs": [
        {
          "output_type": "execute_result",
          "data": {
            "text/plain": [
              "       Date\\t     Time      P1      P2       P3       P4    P5    P6   P7  \\\n",
              "0  15-10-2011  39:55.0 -0.0469 -0.0385  0.00542  0.01121  38.0  52.0  0.0   \n",
              "1  15-10-2011  39:55.6 -0.0469 -0.0385  0.00542  0.01121  38.0  52.0  0.0   \n",
              "2  15-10-2011  39:57.1 -0.0469 -0.0385  0.00542  0.01121  38.0  52.0  0.0   \n",
              "3  15-10-2011  39:58.6 -0.0469 -0.0385  0.00542  0.01121  38.0  52.0  0.0   \n",
              "4  15-10-2011  40:02.2 -0.0469 -0.0385  0.00542  0.01121  38.0  52.0  0.0   \n",
              "\n",
              "    P8   P9  \n",
              "0  0.0  0.0  \n",
              "1  0.0  0.0  \n",
              "2  0.0  0.0  \n",
              "3  0.0  0.0  \n",
              "4  0.0  0.0  "
            ],
            "text/html": [
              "\n",
              "  <div id=\"df-a4523bfe-6001-4de4-8550-04a44e5d5e40\" class=\"colab-df-container\">\n",
              "    <div>\n",
              "<style scoped>\n",
              "    .dataframe tbody tr th:only-of-type {\n",
              "        vertical-align: middle;\n",
              "    }\n",
              "\n",
              "    .dataframe tbody tr th {\n",
              "        vertical-align: top;\n",
              "    }\n",
              "\n",
              "    .dataframe thead th {\n",
              "        text-align: right;\n",
              "    }\n",
              "</style>\n",
              "<table border=\"1\" class=\"dataframe\">\n",
              "  <thead>\n",
              "    <tr style=\"text-align: right;\">\n",
              "      <th></th>\n",
              "      <th>Date\\t</th>\n",
              "      <th>Time</th>\n",
              "      <th>P1</th>\n",
              "      <th>P2</th>\n",
              "      <th>P3</th>\n",
              "      <th>P4</th>\n",
              "      <th>P5</th>\n",
              "      <th>P6</th>\n",
              "      <th>P7</th>\n",
              "      <th>P8</th>\n",
              "      <th>P9</th>\n",
              "    </tr>\n",
              "  </thead>\n",
              "  <tbody>\n",
              "    <tr>\n",
              "      <th>0</th>\n",
              "      <td>15-10-2011</td>\n",
              "      <td>39:55.0</td>\n",
              "      <td>-0.0469</td>\n",
              "      <td>-0.0385</td>\n",
              "      <td>0.00542</td>\n",
              "      <td>0.01121</td>\n",
              "      <td>38.0</td>\n",
              "      <td>52.0</td>\n",
              "      <td>0.0</td>\n",
              "      <td>0.0</td>\n",
              "      <td>0.0</td>\n",
              "    </tr>\n",
              "    <tr>\n",
              "      <th>1</th>\n",
              "      <td>15-10-2011</td>\n",
              "      <td>39:55.6</td>\n",
              "      <td>-0.0469</td>\n",
              "      <td>-0.0385</td>\n",
              "      <td>0.00542</td>\n",
              "      <td>0.01121</td>\n",
              "      <td>38.0</td>\n",
              "      <td>52.0</td>\n",
              "      <td>0.0</td>\n",
              "      <td>0.0</td>\n",
              "      <td>0.0</td>\n",
              "    </tr>\n",
              "    <tr>\n",
              "      <th>2</th>\n",
              "      <td>15-10-2011</td>\n",
              "      <td>39:57.1</td>\n",
              "      <td>-0.0469</td>\n",
              "      <td>-0.0385</td>\n",
              "      <td>0.00542</td>\n",
              "      <td>0.01121</td>\n",
              "      <td>38.0</td>\n",
              "      <td>52.0</td>\n",
              "      <td>0.0</td>\n",
              "      <td>0.0</td>\n",
              "      <td>0.0</td>\n",
              "    </tr>\n",
              "    <tr>\n",
              "      <th>3</th>\n",
              "      <td>15-10-2011</td>\n",
              "      <td>39:58.6</td>\n",
              "      <td>-0.0469</td>\n",
              "      <td>-0.0385</td>\n",
              "      <td>0.00542</td>\n",
              "      <td>0.01121</td>\n",
              "      <td>38.0</td>\n",
              "      <td>52.0</td>\n",
              "      <td>0.0</td>\n",
              "      <td>0.0</td>\n",
              "      <td>0.0</td>\n",
              "    </tr>\n",
              "    <tr>\n",
              "      <th>4</th>\n",
              "      <td>15-10-2011</td>\n",
              "      <td>40:02.2</td>\n",
              "      <td>-0.0469</td>\n",
              "      <td>-0.0385</td>\n",
              "      <td>0.00542</td>\n",
              "      <td>0.01121</td>\n",
              "      <td>38.0</td>\n",
              "      <td>52.0</td>\n",
              "      <td>0.0</td>\n",
              "      <td>0.0</td>\n",
              "      <td>0.0</td>\n",
              "    </tr>\n",
              "  </tbody>\n",
              "</table>\n",
              "</div>\n",
              "    <div class=\"colab-df-buttons\">\n",
              "\n",
              "  <div class=\"colab-df-container\">\n",
              "    <button class=\"colab-df-convert\" onclick=\"convertToInteractive('df-a4523bfe-6001-4de4-8550-04a44e5d5e40')\"\n",
              "            title=\"Convert this dataframe to an interactive table.\"\n",
              "            style=\"display:none;\">\n",
              "\n",
              "  <svg xmlns=\"http://www.w3.org/2000/svg\" height=\"24px\" viewBox=\"0 -960 960 960\">\n",
              "    <path d=\"M120-120v-720h720v720H120Zm60-500h600v-160H180v160Zm220 220h160v-160H400v160Zm0 220h160v-160H400v160ZM180-400h160v-160H180v160Zm440 0h160v-160H620v160ZM180-180h160v-160H180v160Zm440 0h160v-160H620v160Z\"/>\n",
              "  </svg>\n",
              "    </button>\n",
              "\n",
              "  <style>\n",
              "    .colab-df-container {\n",
              "      display:flex;\n",
              "      gap: 12px;\n",
              "    }\n",
              "\n",
              "    .colab-df-convert {\n",
              "      background-color: #E8F0FE;\n",
              "      border: none;\n",
              "      border-radius: 50%;\n",
              "      cursor: pointer;\n",
              "      display: none;\n",
              "      fill: #1967D2;\n",
              "      height: 32px;\n",
              "      padding: 0 0 0 0;\n",
              "      width: 32px;\n",
              "    }\n",
              "\n",
              "    .colab-df-convert:hover {\n",
              "      background-color: #E2EBFA;\n",
              "      box-shadow: 0px 1px 2px rgba(60, 64, 67, 0.3), 0px 1px 3px 1px rgba(60, 64, 67, 0.15);\n",
              "      fill: #174EA6;\n",
              "    }\n",
              "\n",
              "    .colab-df-buttons div {\n",
              "      margin-bottom: 4px;\n",
              "    }\n",
              "\n",
              "    [theme=dark] .colab-df-convert {\n",
              "      background-color: #3B4455;\n",
              "      fill: #D2E3FC;\n",
              "    }\n",
              "\n",
              "    [theme=dark] .colab-df-convert:hover {\n",
              "      background-color: #434B5C;\n",
              "      box-shadow: 0px 1px 3px 1px rgba(0, 0, 0, 0.15);\n",
              "      filter: drop-shadow(0px 1px 2px rgba(0, 0, 0, 0.3));\n",
              "      fill: #FFFFFF;\n",
              "    }\n",
              "  </style>\n",
              "\n",
              "    <script>\n",
              "      const buttonEl =\n",
              "        document.querySelector('#df-a4523bfe-6001-4de4-8550-04a44e5d5e40 button.colab-df-convert');\n",
              "      buttonEl.style.display =\n",
              "        google.colab.kernel.accessAllowed ? 'block' : 'none';\n",
              "\n",
              "      async function convertToInteractive(key) {\n",
              "        const element = document.querySelector('#df-a4523bfe-6001-4de4-8550-04a44e5d5e40');\n",
              "        const dataTable =\n",
              "          await google.colab.kernel.invokeFunction('convertToInteractive',\n",
              "                                                    [key], {});\n",
              "        if (!dataTable) return;\n",
              "\n",
              "        const docLinkHtml = 'Like what you see? Visit the ' +\n",
              "          '<a target=\"_blank\" href=https://colab.research.google.com/notebooks/data_table.ipynb>data table notebook</a>'\n",
              "          + ' to learn more about interactive tables.';\n",
              "        element.innerHTML = '';\n",
              "        dataTable['output_type'] = 'display_data';\n",
              "        await google.colab.output.renderOutput(dataTable, element);\n",
              "        const docLink = document.createElement('div');\n",
              "        docLink.innerHTML = docLinkHtml;\n",
              "        element.appendChild(docLink);\n",
              "      }\n",
              "    </script>\n",
              "  </div>\n",
              "\n",
              "\n",
              "<div id=\"df-3d305cbc-0064-43b7-b1ff-072a18d61028\">\n",
              "  <button class=\"colab-df-quickchart\" onclick=\"quickchart('df-3d305cbc-0064-43b7-b1ff-072a18d61028')\"\n",
              "            title=\"Suggest charts\"\n",
              "            style=\"display:none;\">\n",
              "\n",
              "<svg xmlns=\"http://www.w3.org/2000/svg\" height=\"24px\"viewBox=\"0 0 24 24\"\n",
              "     width=\"24px\">\n",
              "    <g>\n",
              "        <path d=\"M19 3H5c-1.1 0-2 .9-2 2v14c0 1.1.9 2 2 2h14c1.1 0 2-.9 2-2V5c0-1.1-.9-2-2-2zM9 17H7v-7h2v7zm4 0h-2V7h2v10zm4 0h-2v-4h2v4z\"/>\n",
              "    </g>\n",
              "</svg>\n",
              "  </button>\n",
              "\n",
              "<style>\n",
              "  .colab-df-quickchart {\n",
              "      --bg-color: #E8F0FE;\n",
              "      --fill-color: #1967D2;\n",
              "      --hover-bg-color: #E2EBFA;\n",
              "      --hover-fill-color: #174EA6;\n",
              "      --disabled-fill-color: #AAA;\n",
              "      --disabled-bg-color: #DDD;\n",
              "  }\n",
              "\n",
              "  [theme=dark] .colab-df-quickchart {\n",
              "      --bg-color: #3B4455;\n",
              "      --fill-color: #D2E3FC;\n",
              "      --hover-bg-color: #434B5C;\n",
              "      --hover-fill-color: #FFFFFF;\n",
              "      --disabled-bg-color: #3B4455;\n",
              "      --disabled-fill-color: #666;\n",
              "  }\n",
              "\n",
              "  .colab-df-quickchart {\n",
              "    background-color: var(--bg-color);\n",
              "    border: none;\n",
              "    border-radius: 50%;\n",
              "    cursor: pointer;\n",
              "    display: none;\n",
              "    fill: var(--fill-color);\n",
              "    height: 32px;\n",
              "    padding: 0;\n",
              "    width: 32px;\n",
              "  }\n",
              "\n",
              "  .colab-df-quickchart:hover {\n",
              "    background-color: var(--hover-bg-color);\n",
              "    box-shadow: 0 1px 2px rgba(60, 64, 67, 0.3), 0 1px 3px 1px rgba(60, 64, 67, 0.15);\n",
              "    fill: var(--button-hover-fill-color);\n",
              "  }\n",
              "\n",
              "  .colab-df-quickchart-complete:disabled,\n",
              "  .colab-df-quickchart-complete:disabled:hover {\n",
              "    background-color: var(--disabled-bg-color);\n",
              "    fill: var(--disabled-fill-color);\n",
              "    box-shadow: none;\n",
              "  }\n",
              "\n",
              "  .colab-df-spinner {\n",
              "    border: 2px solid var(--fill-color);\n",
              "    border-color: transparent;\n",
              "    border-bottom-color: var(--fill-color);\n",
              "    animation:\n",
              "      spin 1s steps(1) infinite;\n",
              "  }\n",
              "\n",
              "  @keyframes spin {\n",
              "    0% {\n",
              "      border-color: transparent;\n",
              "      border-bottom-color: var(--fill-color);\n",
              "      border-left-color: var(--fill-color);\n",
              "    }\n",
              "    20% {\n",
              "      border-color: transparent;\n",
              "      border-left-color: var(--fill-color);\n",
              "      border-top-color: var(--fill-color);\n",
              "    }\n",
              "    30% {\n",
              "      border-color: transparent;\n",
              "      border-left-color: var(--fill-color);\n",
              "      border-top-color: var(--fill-color);\n",
              "      border-right-color: var(--fill-color);\n",
              "    }\n",
              "    40% {\n",
              "      border-color: transparent;\n",
              "      border-right-color: var(--fill-color);\n",
              "      border-top-color: var(--fill-color);\n",
              "    }\n",
              "    60% {\n",
              "      border-color: transparent;\n",
              "      border-right-color: var(--fill-color);\n",
              "    }\n",
              "    80% {\n",
              "      border-color: transparent;\n",
              "      border-right-color: var(--fill-color);\n",
              "      border-bottom-color: var(--fill-color);\n",
              "    }\n",
              "    90% {\n",
              "      border-color: transparent;\n",
              "      border-bottom-color: var(--fill-color);\n",
              "    }\n",
              "  }\n",
              "</style>\n",
              "\n",
              "  <script>\n",
              "    async function quickchart(key) {\n",
              "      const quickchartButtonEl =\n",
              "        document.querySelector('#' + key + ' button');\n",
              "      quickchartButtonEl.disabled = true;  // To prevent multiple clicks.\n",
              "      quickchartButtonEl.classList.add('colab-df-spinner');\n",
              "      try {\n",
              "        const charts = await google.colab.kernel.invokeFunction(\n",
              "            'suggestCharts', [key], {});\n",
              "      } catch (error) {\n",
              "        console.error('Error during call to suggestCharts:', error);\n",
              "      }\n",
              "      quickchartButtonEl.classList.remove('colab-df-spinner');\n",
              "      quickchartButtonEl.classList.add('colab-df-quickchart-complete');\n",
              "    }\n",
              "    (() => {\n",
              "      let quickchartButtonEl =\n",
              "        document.querySelector('#df-3d305cbc-0064-43b7-b1ff-072a18d61028 button');\n",
              "      quickchartButtonEl.style.display =\n",
              "        google.colab.kernel.accessAllowed ? 'block' : 'none';\n",
              "    })();\n",
              "  </script>\n",
              "</div>\n",
              "    </div>\n",
              "  </div>\n"
            ]
          },
          "metadata": {},
          "execution_count": 8
        }
      ],
      "source": [
        "df.rename({\"Date  \" : \"Date\"},inplace = True)\n",
        "df.head()"
      ]
    },
    {
      "cell_type": "code",
      "execution_count": null,
      "metadata": {
        "colab": {
          "base_uri": "https://localhost:8080/"
        },
        "id": "p5GD4QvvMxuI",
        "outputId": "41992db3-432e-4922-ce7a-f47a14ca45ad"
      },
      "outputs": [
        {
          "output_type": "execute_result",
          "data": {
            "text/plain": [
              "<pandas.core.groupby.generic.DataFrameGroupBy object at 0x7fc58c2d7880>"
            ]
          },
          "metadata": {},
          "execution_count": 9
        }
      ],
      "source": [
        "\n",
        "df.groupby(df[\"Date\\t\"])"
      ]
    },
    {
      "cell_type": "code",
      "execution_count": null,
      "metadata": {
        "colab": {
          "base_uri": "https://localhost:8080/",
          "height": 34
        },
        "id": "MQnrhz6aM6GO",
        "outputId": "8ca666e0-9e9e-4e04-e763-dfe7157f263f"
      },
      "outputs": [
        {
          "output_type": "display_data",
          "data": {
            "text/plain": [
              "<Figure size 1200x800 with 0 Axes>"
            ]
          },
          "metadata": {}
        }
      ],
      "source": [
        "plt.figure(figsize=(12, 8))\n",
        "sns.set_style(\"whitegrid\")"
      ]
    },
    {
      "cell_type": "code",
      "execution_count": null,
      "metadata": {
        "id": "bPbUSyk6QyK1"
      },
      "outputs": [],
      "source": [
        "unique_dates = df['Date\\t'].unique()"
      ]
    },
    {
      "cell_type": "code",
      "execution_count": null,
      "metadata": {
        "colab": {
          "base_uri": "https://localhost:8080/"
        },
        "id": "VJbxtf4qP9vz",
        "outputId": "10b049ce-3e59-4b17-d763-171e16cf2a51"
      },
      "outputs": [
        {
          "output_type": "execute_result",
          "data": {
            "text/plain": [
              "array(['15-10-2011', '16-10-2011', '17-10-2011', '18-10-2011',\n",
              "       '19-10-2011', '20-10-2011', '21-10-2011', '22-10-2011',\n",
              "       '23-10-2011', '24-10-2011', '25-10-2011', '26-10-2011',\n",
              "       '27-10-2011', '28-10-2011', '29-10-2011', '30-10-2011',\n",
              "       '01-11-2011', '02-11-2011', '03-11-2011', '04-11-2011',\n",
              "       '05-11-2011', '06-11-2011', '08-11-2011', '09-11-2011',\n",
              "       '11-11-2011', '12-11-2011', '13-11-2011', '14-11-2011'],\n",
              "      dtype=object)"
            ]
          },
          "metadata": {},
          "execution_count": 12
        }
      ],
      "source": [
        "unique_dates"
      ]
    },
    {
      "cell_type": "code",
      "execution_count": null,
      "metadata": {
        "colab": {
          "base_uri": "https://localhost:8080/"
        },
        "id": "HBuKHfXdR7zZ",
        "outputId": "69a6b71d-fee9-4cde-9fd6-9414296a5080"
      },
      "outputs": [
        {
          "output_type": "stream",
          "name": "stdout",
          "text": [
            "          Date\\t     Time      P1      P2       P3       P4    P5    P6   P7  \\\n",
            "0     15-10-2011  39:55.0 -0.0469 -0.0385  0.00542  0.01121  38.0  52.0  0.0   \n",
            "1     15-10-2011  39:55.6 -0.0469 -0.0385  0.00542  0.01121  38.0  52.0  0.0   \n",
            "2     15-10-2011  39:57.1 -0.0469 -0.0385  0.00542  0.01121  38.0  52.0  0.0   \n",
            "3     15-10-2011  39:58.6 -0.0469 -0.0385  0.00542  0.01121  38.0  52.0  0.0   \n",
            "4     15-10-2011  40:02.2 -0.0469 -0.0385  0.00542  0.01121  38.0  52.0  0.0   \n",
            "...          ...      ...     ...     ...      ...      ...   ...   ...  ...   \n",
            "1104  15-10-2011  57:33.2 -0.0469 -0.0385  0.00536  0.01106  38.0  52.0  0.0   \n",
            "1105  15-10-2011  57:34.3 -0.0469 -0.0385  0.00536  0.01106  38.0  52.0  0.0   \n",
            "1106  15-10-2011  57:34.8 -0.0469 -0.0385  0.00552  0.01096  38.0  52.0  0.0   \n",
            "1107  15-10-2011  57:36.3 -0.0469 -0.0385  0.00552  0.01096  38.0  52.0  0.0   \n",
            "1108  15-10-2011  57:37.8 -0.0469 -0.0385  0.00552  0.01096  38.0  52.0  0.0   \n",
            "\n",
            "       P8   P9  \n",
            "0     0.0  0.0  \n",
            "1     0.0  0.0  \n",
            "2     0.0  0.0  \n",
            "3     0.0  0.0  \n",
            "4     0.0  0.0  \n",
            "...   ...  ...  \n",
            "1104  0.0  0.0  \n",
            "1105  0.0  0.0  \n",
            "1106  0.0  0.0  \n",
            "1107  0.0  0.0  \n",
            "1108  0.0  0.0  \n",
            "\n",
            "[1109 rows x 11 columns]\n"
          ]
        }
      ],
      "source": [
        "date_dataframes = {}\n",
        "for date in unique_dates:\n",
        "    date_df = df[df['Date\\t'] == date]\n",
        "    date_dataframes[date] = date_df\n",
        "\n",
        "# Now date_dataframes is a dictionary where each key is a date, and the corresponding value is a DataFrame for that date\n",
        "# You can access a specific DataFrame using date_dataframes[date]\n",
        "\n",
        "# For example, to print the DataFrame for a specific date (replace 'desired_date' with the actual date)\n",
        "desired_date = '15-10-2011'\n",
        "print(date_dataframes[desired_date])"
      ]
    },
    {
      "cell_type": "code",
      "execution_count": null,
      "metadata": {
        "id": "dFmcsYqmSZ4F"
      },
      "outputs": [],
      "source": [
        "#Now I can plot for per day\n",
        "test_df = date_dataframes[unique_dates[2]]"
      ]
    },
    {
      "cell_type": "code",
      "execution_count": null,
      "metadata": {
        "colab": {
          "base_uri": "https://localhost:8080/",
          "height": 718
        },
        "id": "Icjv7UpgS3go",
        "outputId": "5d8d8032-1230-4919-e2fa-860c72b07cea"
      },
      "outputs": [
        {
          "output_type": "display_data",
          "data": {
            "text/plain": [
              "<Figure size 1200x800 with 1 Axes>"
            ],
            "image/png": "[encoded data removed]"
          },
          "metadata": {}
        }
      ],
      "source": [
        "plt.figure(figsize=(12, 8))\n",
        "sns.set_style(\"whitegrid\")\n",
        "\n",
        "# You can choose which columns to plot, let's plot P1 for example\n",
        "sns.lineplot(data=test_df, x=test_df[\"Time\"], y='P2', label='P2')\n",
        "plt.title('Time Series Visualization')\n",
        "plt.xlabel('Date and Time')\n",
        "plt.ylabel('P1 Value')\n",
        "plt.legend()\n",
        "plt.show()\n"
      ]
    },
    {
      "cell_type": "code",
      "execution_count": null,
      "metadata": {
        "id": "p2bKRmP6ohVO"
      },
      "outputs": [],
      "source": []
    },
    {
      "cell_type": "code",
      "execution_count": null,
      "metadata": {
        "id": "fSNEPNvkon-j"
      },
      "outputs": [],
      "source": [
        "import warnings\n",
        "warnings.filterwarnings(\"ignore\")\n",
        "import numpy as np\n",
        "import pandas as pd\n",
        "import matplotlib.pyplot as plt\n",
        "\n",
        "from statsmodels.tsa.seasonal import seasonal_decompose\n",
        "from matplotlib import rcParams\n",
        "from keras.models import Sequential, Model\n",
        "from keras.layers import LSTM, RepeatVector, TimeDistributed, Dense, Input"
      ]
    },
    {
      "cell_type": "code",
      "execution_count": null,
      "metadata": {
        "id": "EJd-UbZtHjRe"
      },
      "outputs": [],
      "source": [
        "TRAIN_SIZE = 800\n",
        "EXT_LSTM_UNITS = 64\n",
        "INT_LSTM_UNITS = 32"
      ]
    },
    {
      "cell_type": "code",
      "execution_count": null,
      "metadata": {
        "id": "X2_xPd418fwZ"
      },
      "outputs": [],
      "source": [
        "def load_data(filepath):\n",
        "  df = pd.read_csv(filepath, delimiter=\",\")\n",
        "  features = df.columns[2:]\n",
        "\n",
        "  # df['timestamp'] = df.iloc[:,0]+''+df.iloc[:,1]\n",
        "\n",
        "  # # df[col_name] = pd.to_numeric(df[col_name],errors = 'coerce')\n",
        "  # df = df[['timestamp',features]]\n",
        "  # df.set_index('timestamp',inplace= True)\n",
        "  return df[features]\n"
      ]
    },
    {
      "cell_type": "code",
      "source": [
        "test = load_data(\"/content/Dataset 2 .csv\")\n",
        "test.head()"
      ],
      "metadata": {
        "colab": {
          "base_uri": "https://localhost:8080/",
          "height": 206
        },
        "id": "BVGzpoyoNrTC",
        "outputId": "117fb540-8a92-43e4-d27c-a09237b4b9b3"
      },
      "execution_count": null,
      "outputs": [
        {
          "output_type": "execute_result",
          "data": {
            "text/plain": [
              "       P1      P2       P3       P4    P5  P6  P7  P8  P9\n",
              "0 -0.0469 -0.0385  0.00542  0.01121  38.0  52   0   0   0\n",
              "1 -0.0469 -0.0385  0.00542  0.01121  38.0  52   0   0   0\n",
              "2 -0.0469 -0.0385  0.00542  0.01121  38.0  52   0   0   0\n",
              "3 -0.0469 -0.0385  0.00542  0.01121  38.0  52   0   0   0\n",
              "4 -0.0469 -0.0385  0.00542  0.01121  38.0  52   0   0   0"
            ],
            "text/html": [
              "\n",
              "  <div id=\"df-9a953062-02d8-4ef6-9466-842a56421a9f\" class=\"colab-df-container\">\n",
              "    <div>\n",
              "<style scoped>\n",
              "    .dataframe tbody tr th:only-of-type {\n",
              "        vertical-align: middle;\n",
              "    }\n",
              "\n",
              "    .dataframe tbody tr th {\n",
              "        vertical-align: top;\n",
              "    }\n",
              "\n",
              "    .dataframe thead th {\n",
              "        text-align: right;\n",
              "    }\n",
              "</style>\n",
              "<table border=\"1\" class=\"dataframe\">\n",
              "  <thead>\n",
              "    <tr style=\"text-align: right;\">\n",
              "      <th></th>\n",
              "      <th>P1</th>\n",
              "      <th>P2</th>\n",
              "      <th>P3</th>\n",
              "      <th>P4</th>\n",
              "      <th>P5</th>\n",
              "      <th>P6</th>\n",
              "      <th>P7</th>\n",
              "      <th>P8</th>\n",
              "      <th>P9</th>\n",
              "    </tr>\n",
              "  </thead>\n",
              "  <tbody>\n",
              "    <tr>\n",
              "      <th>0</th>\n",
              "      <td>-0.0469</td>\n",
              "      <td>-0.0385</td>\n",
              "      <td>0.00542</td>\n",
              "      <td>0.01121</td>\n",
              "      <td>38.0</td>\n",
              "      <td>52</td>\n",
              "      <td>0</td>\n",
              "      <td>0</td>\n",
              "      <td>0</td>\n",
              "    </tr>\n",
              "    <tr>\n",
              "      <th>1</th>\n",
              "      <td>-0.0469</td>\n",
              "      <td>-0.0385</td>\n",
              "      <td>0.00542</td>\n",
              "      <td>0.01121</td>\n",
              "      <td>38.0</td>\n",
              "      <td>52</td>\n",
              "      <td>0</td>\n",
              "      <td>0</td>\n",
              "      <td>0</td>\n",
              "    </tr>\n",
              "    <tr>\n",
              "      <th>2</th>\n",
              "      <td>-0.0469</td>\n",
              "      <td>-0.0385</td>\n",
              "      <td>0.00542</td>\n",
              "      <td>0.01121</td>\n",
              "      <td>38.0</td>\n",
              "      <td>52</td>\n",
              "      <td>0</td>\n",
              "      <td>0</td>\n",
              "      <td>0</td>\n",
              "    </tr>\n",
              "    <tr>\n",
              "      <th>3</th>\n",
              "      <td>-0.0469</td>\n",
              "      <td>-0.0385</td>\n",
              "      <td>0.00542</td>\n",
              "      <td>0.01121</td>\n",
              "      <td>38.0</td>\n",
              "      <td>52</td>\n",
              "      <td>0</td>\n",
              "      <td>0</td>\n",
              "      <td>0</td>\n",
              "    </tr>\n",
              "    <tr>\n",
              "      <th>4</th>\n",
              "      <td>-0.0469</td>\n",
              "      <td>-0.0385</td>\n",
              "      <td>0.00542</td>\n",
              "      <td>0.01121</td>\n",
              "      <td>38.0</td>\n",
              "      <td>52</td>\n",
              "      <td>0</td>\n",
              "      <td>0</td>\n",
              "      <td>0</td>\n",
              "    </tr>\n",
              "  </tbody>\n",
              "</table>\n",
              "</div>\n",
              "    <div class=\"colab-df-buttons\">\n",
              "\n",
              "  <div class=\"colab-df-container\">\n",
              "    <button class=\"colab-df-convert\" onclick=\"convertToInteractive('df-9a953062-02d8-4ef6-9466-842a56421a9f')\"\n",
              "            title=\"Convert this dataframe to an interactive table.\"\n",
              "            style=\"display:none;\">\n",
              "\n",
              "  <svg xmlns=\"http://www.w3.org/2000/svg\" height=\"24px\" viewBox=\"0 -960 960 960\">\n",
              "    <path d=\"M120-120v-720h720v720H120Zm60-500h600v-160H180v160Zm220 220h160v-160H400v160Zm0 220h160v-160H400v160ZM180-400h160v-160H180v160Zm440 0h160v-160H620v160ZM180-180h160v-160H180v160Zm440 0h160v-160H620v160Z\"/>\n",
              "  </svg>\n",
              "    </button>\n",
              "\n",
              "  <style>\n",
              "    .colab-df-container {\n",
              "      display:flex;\n",
              "      gap: 12px;\n",
              "    }\n",
              "\n",
              "    .colab-df-convert {\n",
              "      background-color: #E8F0FE;\n",
              "      border: none;\n",
              "      border-radius: 50%;\n",
              "      cursor: pointer;\n",
              "      display: none;\n",
              "      fill: #1967D2;\n",
              "      height: 32px;\n",
              "      padding: 0 0 0 0;\n",
              "      width: 32px;\n",
              "    }\n",
              "\n",
              "    .colab-df-convert:hover {\n",
              "      background-color: #E2EBFA;\n",
              "      box-shadow: 0px 1px 2px rgba(60, 64, 67, 0.3), 0px 1px 3px 1px rgba(60, 64, 67, 0.15);\n",
              "      fill: #174EA6;\n",
              "    }\n",
              "\n",
              "    .colab-df-buttons div {\n",
              "      margin-bottom: 4px;\n",
              "    }\n",
              "\n",
              "    [theme=dark] .colab-df-convert {\n",
              "      background-color: #3B4455;\n",
              "      fill: #D2E3FC;\n",
              "    }\n",
              "\n",
              "    [theme=dark] .colab-df-convert:hover {\n",
              "      background-color: #434B5C;\n",
              "      box-shadow: 0px 1px 3px 1px rgba(0, 0, 0, 0.15);\n",
              "      filter: drop-shadow(0px 1px 2px rgba(0, 0, 0, 0.3));\n",
              "      fill: #FFFFFF;\n",
              "    }\n",
              "  </style>\n",
              "\n",
              "    <script>\n",
              "      const buttonEl =\n",
              "        document.querySelector('#df-9a953062-02d8-4ef6-9466-842a56421a9f button.colab-df-convert');\n",
              "      buttonEl.style.display =\n",
              "        google.colab.kernel.accessAllowed ? 'block' : 'none';\n",
              "\n",
              "      async function convertToInteractive(key) {\n",
              "        const element = document.querySelector('#df-9a953062-02d8-4ef6-9466-842a56421a9f');\n",
              "        const dataTable =\n",
              "          await google.colab.kernel.invokeFunction('convertToInteractive',\n",
              "                                                    [key], {});\n",
              "        if (!dataTable) return;\n",
              "\n",
              "        const docLinkHtml = 'Like what you see? Visit the ' +\n",
              "          '<a target=\"_blank\" href=https://colab.research.google.com/notebooks/data_table.ipynb>data table notebook</a>'\n",
              "          + ' to learn more about interactive tables.';\n",
              "        element.innerHTML = '';\n",
              "        dataTable['output_type'] = 'display_data';\n",
              "        await google.colab.output.renderOutput(dataTable, element);\n",
              "        const docLink = document.createElement('div');\n",
              "        docLink.innerHTML = docLinkHtml;\n",
              "        element.appendChild(docLink);\n",
              "      }\n",
              "    </script>\n",
              "  </div>\n",
              "\n",
              "\n",
              "<div id=\"df-91e56ccc-df13-4759-8b74-dfcb7d93c0f5\">\n",
              "  <button class=\"colab-df-quickchart\" onclick=\"quickchart('df-91e56ccc-df13-4759-8b74-dfcb7d93c0f5')\"\n",
              "            title=\"Suggest charts\"\n",
              "            style=\"display:none;\">\n",
              "\n",
              "<svg xmlns=\"http://www.w3.org/2000/svg\" height=\"24px\"viewBox=\"0 0 24 24\"\n",
              "     width=\"24px\">\n",
              "    <g>\n",
              "        <path d=\"M19 3H5c-1.1 0-2 .9-2 2v14c0 1.1.9 2 2 2h14c1.1 0 2-.9 2-2V5c0-1.1-.9-2-2-2zM9 17H7v-7h2v7zm4 0h-2V7h2v10zm4 0h-2v-4h2v4z\"/>\n",
              "    </g>\n",
              "</svg>\n",
              "  </button>\n",
              "\n",
              "<style>\n",
              "  .colab-df-quickchart {\n",
              "      --bg-color: #E8F0FE;\n",
              "      --fill-color: #1967D2;\n",
              "      --hover-bg-color: #E2EBFA;\n",
              "      --hover-fill-color: #174EA6;\n",
              "      --disabled-fill-color: #AAA;\n",
              "      --disabled-bg-color: #DDD;\n",
              "  }\n",
              "\n",
              "  [theme=dark] .colab-df-quickchart {\n",
              "      --bg-color: #3B4455;\n",
              "      --fill-color: #D2E3FC;\n",
              "      --hover-bg-color: #434B5C;\n",
              "      --hover-fill-color: #FFFFFF;\n",
              "      --disabled-bg-color: #3B4455;\n",
              "      --disabled-fill-color: #666;\n",
              "  }\n",
              "\n",
              "  .colab-df-quickchart {\n",
              "    background-color: var(--bg-color);\n",
              "    border: none;\n",
              "    border-radius: 50%;\n",
              "    cursor: pointer;\n",
              "    display: none;\n",
              "    fill: var(--fill-color);\n",
              "    height: 32px;\n",
              "    padding: 0;\n",
              "    width: 32px;\n",
              "  }\n",
              "\n",
              "  .colab-df-quickchart:hover {\n",
              "    background-color: var(--hover-bg-color);\n",
              "    box-shadow: 0 1px 2px rgba(60, 64, 67, 0.3), 0 1px 3px 1px rgba(60, 64, 67, 0.15);\n",
              "    fill: var(--button-hover-fill-color);\n",
              "  }\n",
              "\n",
              "  .colab-df-quickchart-complete:disabled,\n",
              "  .colab-df-quickchart-complete:disabled:hover {\n",
              "    background-color: var(--disabled-bg-color);\n",
              "    fill: var(--disabled-fill-color);\n",
              "    box-shadow: none;\n",
              "  }\n",
              "\n",
              "  .colab-df-spinner {\n",
              "    border: 2px solid var(--fill-color);\n",
              "    border-color: transparent;\n",
              "    border-bottom-color: var(--fill-color);\n",
              "    animation:\n",
              "      spin 1s steps(1) infinite;\n",
              "  }\n",
              "\n",
              "  @keyframes spin {\n",
              "    0% {\n",
              "      border-color: transparent;\n",
              "      border-bottom-color: var(--fill-color);\n",
              "      border-left-color: var(--fill-color);\n",
              "    }\n",
              "    20% {\n",
              "      border-color: transparent;\n",
              "      border-left-color: var(--fill-color);\n",
              "      border-top-color: var(--fill-color);\n",
              "    }\n",
              "    30% {\n",
              "      border-color: transparent;\n",
              "      border-left-color: var(--fill-color);\n",
              "      border-top-color: var(--fill-color);\n",
              "      border-right-color: var(--fill-color);\n",
              "    }\n",
              "    40% {\n",
              "      border-color: transparent;\n",
              "      border-right-color: var(--fill-color);\n",
              "      border-top-color: var(--fill-color);\n",
              "    }\n",
              "    60% {\n",
              "      border-color: transparent;\n",
              "      border-right-color: var(--fill-color);\n",
              "    }\n",
              "    80% {\n",
              "      border-color: transparent;\n",
              "      border-right-color: var(--fill-color);\n",
              "      border-bottom-color: var(--fill-color);\n",
              "    }\n",
              "    90% {\n",
              "      border-color: transparent;\n",
              "      border-bottom-color: var(--fill-color);\n",
              "    }\n",
              "  }\n",
              "</style>\n",
              "\n",
              "  <script>\n",
              "    async function quickchart(key) {\n",
              "      const quickchartButtonEl =\n",
              "        document.querySelector('#' + key + ' button');\n",
              "      quickchartButtonEl.disabled = true;  // To prevent multiple clicks.\n",
              "      quickchartButtonEl.classList.add('colab-df-spinner');\n",
              "      try {\n",
              "        const charts = await google.colab.kernel.invokeFunction(\n",
              "            'suggestCharts', [key], {});\n",
              "      } catch (error) {\n",
              "        console.error('Error during call to suggestCharts:', error);\n",
              "      }\n",
              "      quickchartButtonEl.classList.remove('colab-df-spinner');\n",
              "      quickchartButtonEl.classList.add('colab-df-quickchart-complete');\n",
              "    }\n",
              "    (() => {\n",
              "      let quickchartButtonEl =\n",
              "        document.querySelector('#df-91e56ccc-df13-4759-8b74-dfcb7d93c0f5 button');\n",
              "      quickchartButtonEl.style.display =\n",
              "        google.colab.kernel.accessAllowed ? 'block' : 'none';\n",
              "    })();\n",
              "  </script>\n",
              "</div>\n",
              "    </div>\n",
              "  </div>\n"
            ]
          },
          "metadata": {},
          "execution_count": 19
        }
      ]
    },
    {
      "cell_type": "code",
      "execution_count": null,
      "metadata": {
        "id": "yUj2DM2SH6QP"
      },
      "outputs": [],
      "source": [
        "def compute_seasonal_decomposition(file,col_name):\n",
        "  df = pd.read_csv(file, delimiter=\",\")\n",
        "  df['timestamp'] = df.iloc[:,0]+''+df.iloc[:,1]\n",
        "  df[col_name] = pd.to_numeric(df[col_name],errors = 'coerce')\n",
        "  df = df[['timestamp',col_name]]\n",
        "  df.set_index('timestamp',inplace= True)\n",
        "  decompose = seasonal_decompose(df, model='additive')\n",
        "  decompose.plot()"
      ]
    },
    {
      "cell_type": "code",
      "source": [],
      "metadata": {
        "id": "xrA0WzAkFz5Q"
      },
      "execution_count": null,
      "outputs": []
    },
    {
      "cell_type": "markdown",
      "metadata": {
        "id": "ym5PjhqWZm7i"
      },
      "source": []
    },
    {
      "cell_type": "code",
      "execution_count": null,
      "metadata": {
        "id": "GFZ2_Js-IYET"
      },
      "outputs": [],
      "source": [
        "def split_data(data, train_size):\n",
        "  train_data = data.iloc[:train_size,:]\n",
        "  test_data = data.iloc[train_size:,:]\n",
        "  return train_data,test_data"
      ]
    },
    {
      "cell_type": "code",
      "execution_count": null,
      "metadata": {
        "id": "s2dCsXZ_IoaC"
      },
      "outputs": [],
      "source": [
        "def normalize_data(train_data,test_data):\n",
        "  mean = train_data.mean(axis=0)\n",
        "  std = train_data.std(axis=0)\n",
        "  train_data = (train_data-mean)/std\n",
        "  test_data = (test_data-mean)/std\n",
        "  return mean,std,train_data,test_data\n"
      ]
    },
    {
      "cell_type": "code",
      "execution_count": null,
      "metadata": {
        "id": "PGXpqkSJJCaF"
      },
      "outputs": [],
      "source": [
        "def build_model(input_shape,ext_lstm_units,int_lstm_units):\n",
        "    input_layer = Input(shape=input_shape)\n",
        "    encoder = LSTM(ext_lstm_units, activation='selu', return_sequences=True)(input_layer)\n",
        "    encoder_1 = LSTM(int_lstm_units, activation='selu')(encoder)\n",
        "    repeat = RepeatVector(input_shape[0])(encoder_1)\n",
        "    decoder = LSTM(int_lstm_units, activation='selu', return_sequences=True)(repeat)\n",
        "    decoder_1 = LSTM(ext_lstm_units, activation='selu', return_sequences=True)(decoder)\n",
        "    output_layer = TimeDistributed(Dense(input_shape[1]))(decoder_1)\n",
        "\n",
        "    model = Model(inputs=input_layer, outputs=output_layer)\n",
        "    model.compile(optimizer='adam', loss='mse')\n",
        "    return model"
      ]
    },
    {
      "cell_type": "code",
      "execution_count": null,
      "metadata": {
        "id": "81hscJiiNnPq"
      },
      "outputs": [],
      "source": [
        "import tensorflow as tf"
      ]
    },
    {
      "cell_type": "code",
      "execution_count": null,
      "metadata": {
        "id": "UAl3sZ9I-JNb"
      },
      "outputs": [],
      "source": [
        "def train_model(model, train_data):\n",
        "    train_data = tf.convert_to_tensor(train_data, dtype=tf.float32)\n",
        "    history = model.fit(train_data, train_data, epochs=50, batch_size=100, validation_split=0.2)\n",
        "    return history"
      ]
    },
    {
      "cell_type": "code",
      "execution_count": null,
      "metadata": {
        "id": "Dx3kwObE-KcN"
      },
      "outputs": [],
      "source": [
        "def predict(model, test_data):\n",
        "    \"\"\"Use LSTM Autoencoder model to predict on test data.\"\"\"\n",
        "    test_data = tf.convert_to_tensor(test_data, dtype=tf.float32)\n",
        "    predictions = model.predict(test_data)\n",
        "    return predictions"
      ]
    },
    {
      "cell_type": "code",
      "execution_count": null,
      "metadata": {
        "id": "Fn23HX-U-FzR"
      },
      "outputs": [],
      "source": [
        "def calculate_error(test_data, predictions):\n",
        "    \"\"\"Calculate mean squared error between test data and predictions.\"\"\"\n",
        "    print(\"test_data shape\", test_data.shape)\n",
        "    print(\"predictions shape\", predictions.shape)\n",
        "    mse = np.mean(np.power(test_data - predictions, 2), axis=1)\n",
        "    return mse"
      ]
    },
    {
      "cell_type": "code",
      "execution_count": null,
      "metadata": {
        "id": "chawQQtlJgiF"
      },
      "outputs": [],
      "source": [
        "def detect_anamolies(mse):\n",
        "  threshold = np.mean(mse) + 3*np.std(mse)\n",
        "\n",
        "\n",
        "  print(\"Threshold = \",np.round(threshold,2))\n",
        "  anamolies = np.where(mse > np.round(threshold,2))[0]\n",
        "  return anamolies"
      ]
    },
    {
      "cell_type": "code",
      "execution_count": null,
      "metadata": {
        "id": "HoK94gTLJ6u-"
      },
      "outputs": [],
      "source": [
        "def plot_results(test_data, anomalies):\n",
        "    \"\"\"Plot test data with detected anomalies.\"\"\"\n",
        "    plt.subplots(figsize=(14, 10))\n",
        "    plt.plot(test_data)\n",
        "    plt.plot(anomalies, test_data['P1'][anomalies], 'ro')\n",
        "    plt.figure(figsize=(12,4))\n",
        "    plt.title('P1 Anomaly Detection')\n",
        "    plt.xlabel('Date')\n",
        "    plt.ylabel('P1 ')\n",
        "    plt.grid()\n",
        "    plt.show()"
      ]
    },
    {
      "cell_type": "code",
      "execution_count": null,
      "metadata": {
        "id": "uLsUJaOd-Pxi"
      },
      "outputs": [],
      "source": [
        "df = load_data(\"Dataset 2 .csv\")\n",
        "\n"
      ]
    },
    {
      "cell_type": "code",
      "execution_count": null,
      "metadata": {
        "id": "2udpH-W7EbsY",
        "colab": {
          "base_uri": "https://localhost:8080/",
          "height": 206
        },
        "outputId": "92f0e3b2-9304-4ec7-fcab-8254db45288d"
      },
      "outputs": [
        {
          "output_type": "execute_result",
          "data": {
            "text/plain": [
              "       P1      P2       P3       P4    P5  P6  P7  P8  P9\n",
              "0 -0.0469 -0.0385  0.00542  0.01121  38.0  52   0   0   0\n",
              "1 -0.0469 -0.0385  0.00542  0.01121  38.0  52   0   0   0\n",
              "2 -0.0469 -0.0385  0.00542  0.01121  38.0  52   0   0   0\n",
              "3 -0.0469 -0.0385  0.00542  0.01121  38.0  52   0   0   0\n",
              "4 -0.0469 -0.0385  0.00542  0.01121  38.0  52   0   0   0"
            ],
            "text/html": [
              "\n",
              "  <div id=\"df-daf3c959-6648-425a-9be3-d9df425d7336\" class=\"colab-df-container\">\n",
              "    <div>\n",
              "<style scoped>\n",
              "    .dataframe tbody tr th:only-of-type {\n",
              "        vertical-align: middle;\n",
              "    }\n",
              "\n",
              "    .dataframe tbody tr th {\n",
              "        vertical-align: top;\n",
              "    }\n",
              "\n",
              "    .dataframe thead th {\n",
              "        text-align: right;\n",
              "    }\n",
              "</style>\n",
              "<table border=\"1\" class=\"dataframe\">\n",
              "  <thead>\n",
              "    <tr style=\"text-align: right;\">\n",
              "      <th></th>\n",
              "      <th>P1</th>\n",
              "      <th>P2</th>\n",
              "      <th>P3</th>\n",
              "      <th>P4</th>\n",
              "      <th>P5</th>\n",
              "      <th>P6</th>\n",
              "      <th>P7</th>\n",
              "      <th>P8</th>\n",
              "      <th>P9</th>\n",
              "    </tr>\n",
              "  </thead>\n",
              "  <tbody>\n",
              "    <tr>\n",
              "      <th>0</th>\n",
              "      <td>-0.0469</td>\n",
              "      <td>-0.0385</td>\n",
              "      <td>0.00542</td>\n",
              "      <td>0.01121</td>\n",
              "      <td>38.0</td>\n",
              "      <td>52</td>\n",
              "      <td>0</td>\n",
              "      <td>0</td>\n",
              "      <td>0</td>\n",
              "    </tr>\n",
              "    <tr>\n",
              "      <th>1</th>\n",
              "      <td>-0.0469</td>\n",
              "      <td>-0.0385</td>\n",
              "      <td>0.00542</td>\n",
              "      <td>0.01121</td>\n",
              "      <td>38.0</td>\n",
              "      <td>52</td>\n",
              "      <td>0</td>\n",
              "      <td>0</td>\n",
              "      <td>0</td>\n",
              "    </tr>\n",
              "    <tr>\n",
              "      <th>2</th>\n",
              "      <td>-0.0469</td>\n",
              "      <td>-0.0385</td>\n",
              "      <td>0.00542</td>\n",
              "      <td>0.01121</td>\n",
              "      <td>38.0</td>\n",
              "      <td>52</td>\n",
              "      <td>0</td>\n",
              "      <td>0</td>\n",
              "      <td>0</td>\n",
              "    </tr>\n",
              "    <tr>\n",
              "      <th>3</th>\n",
              "      <td>-0.0469</td>\n",
              "      <td>-0.0385</td>\n",
              "      <td>0.00542</td>\n",
              "      <td>0.01121</td>\n",
              "      <td>38.0</td>\n",
              "      <td>52</td>\n",
              "      <td>0</td>\n",
              "      <td>0</td>\n",
              "      <td>0</td>\n",
              "    </tr>\n",
              "    <tr>\n",
              "      <th>4</th>\n",
              "      <td>-0.0469</td>\n",
              "      <td>-0.0385</td>\n",
              "      <td>0.00542</td>\n",
              "      <td>0.01121</td>\n",
              "      <td>38.0</td>\n",
              "      <td>52</td>\n",
              "      <td>0</td>\n",
              "      <td>0</td>\n",
              "      <td>0</td>\n",
              "    </tr>\n",
              "  </tbody>\n",
              "</table>\n",
              "</div>\n",
              "    <div class=\"colab-df-buttons\">\n",
              "\n",
              "  <div class=\"colab-df-container\">\n",
              "    <button class=\"colab-df-convert\" onclick=\"convertToInteractive('df-daf3c959-6648-425a-9be3-d9df425d7336')\"\n",
              "            title=\"Convert this dataframe to an interactive table.\"\n",
              "            style=\"display:none;\">\n",
              "\n",
              "  <svg xmlns=\"http://www.w3.org/2000/svg\" height=\"24px\" viewBox=\"0 -960 960 960\">\n",
              "    <path d=\"M120-120v-720h720v720H120Zm60-500h600v-160H180v160Zm220 220h160v-160H400v160Zm0 220h160v-160H400v160ZM180-400h160v-160H180v160Zm440 0h160v-160H620v160ZM180-180h160v-160H180v160Zm440 0h160v-160H620v160Z\"/>\n",
              "  </svg>\n",
              "    </button>\n",
              "\n",
              "  <style>\n",
              "    .colab-df-container {\n",
              "      display:flex;\n",
              "      gap: 12px;\n",
              "    }\n",
              "\n",
              "    .colab-df-convert {\n",
              "      background-color: #E8F0FE;\n",
              "      border: none;\n",
              "      border-radius: 50%;\n",
              "      cursor: pointer;\n",
              "      display: none;\n",
              "      fill: #1967D2;\n",
              "      height: 32px;\n",
              "      padding: 0 0 0 0;\n",
              "      width: 32px;\n",
              "    }\n",
              "\n",
              "    .colab-df-convert:hover {\n",
              "      background-color: #E2EBFA;\n",
              "      box-shadow: 0px 1px 2px rgba(60, 64, 67, 0.3), 0px 1px 3px 1px rgba(60, 64, 67, 0.15);\n",
              "      fill: #174EA6;\n",
              "    }\n",
              "\n",
              "    .colab-df-buttons div {\n",
              "      margin-bottom: 4px;\n",
              "    }\n",
              "\n",
              "    [theme=dark] .colab-df-convert {\n",
              "      background-color: #3B4455;\n",
              "      fill: #D2E3FC;\n",
              "    }\n",
              "\n",
              "    [theme=dark] .colab-df-convert:hover {\n",
              "      background-color: #434B5C;\n",
              "      box-shadow: 0px 1px 3px 1px rgba(0, 0, 0, 0.15);\n",
              "      filter: drop-shadow(0px 1px 2px rgba(0, 0, 0, 0.3));\n",
              "      fill: #FFFFFF;\n",
              "    }\n",
              "  </style>\n",
              "\n",
              "    <script>\n",
              "      const buttonEl =\n",
              "        document.querySelector('#df-daf3c959-6648-425a-9be3-d9df425d7336 button.colab-df-convert');\n",
              "      buttonEl.style.display =\n",
              "        google.colab.kernel.accessAllowed ? 'block' : 'none';\n",
              "\n",
              "      async function convertToInteractive(key) {\n",
              "        const element = document.querySelector('#df-daf3c959-6648-425a-9be3-d9df425d7336');\n",
              "        const dataTable =\n",
              "          await google.colab.kernel.invokeFunction('convertToInteractive',\n",
              "                                                    [key], {});\n",
              "        if (!dataTable) return;\n",
              "\n",
              "        const docLinkHtml = 'Like what you see? Visit the ' +\n",
              "          '<a target=\"_blank\" href=https://colab.research.google.com/notebooks/data_table.ipynb>data table notebook</a>'\n",
              "          + ' to learn more about interactive tables.';\n",
              "        element.innerHTML = '';\n",
              "        dataTable['output_type'] = 'display_data';\n",
              "        await google.colab.output.renderOutput(dataTable, element);\n",
              "        const docLink = document.createElement('div');\n",
              "        docLink.innerHTML = docLinkHtml;\n",
              "        element.appendChild(docLink);\n",
              "      }\n",
              "    </script>\n",
              "  </div>\n",
              "\n",
              "\n",
              "<div id=\"df-0d175602-de64-4572-953b-47519184003f\">\n",
              "  <button class=\"colab-df-quickchart\" onclick=\"quickchart('df-0d175602-de64-4572-953b-47519184003f')\"\n",
              "            title=\"Suggest charts\"\n",
              "            style=\"display:none;\">\n",
              "\n",
              "<svg xmlns=\"http://www.w3.org/2000/svg\" height=\"24px\"viewBox=\"0 0 24 24\"\n",
              "     width=\"24px\">\n",
              "    <g>\n",
              "        <path d=\"M19 3H5c-1.1 0-2 .9-2 2v14c0 1.1.9 2 2 2h14c1.1 0 2-.9 2-2V5c0-1.1-.9-2-2-2zM9 17H7v-7h2v7zm4 0h-2V7h2v10zm4 0h-2v-4h2v4z\"/>\n",
              "    </g>\n",
              "</svg>\n",
              "  </button>\n",
              "\n",
              "<style>\n",
              "  .colab-df-quickchart {\n",
              "      --bg-color: #E8F0FE;\n",
              "      --fill-color: #1967D2;\n",
              "      --hover-bg-color: #E2EBFA;\n",
              "      --hover-fill-color: #174EA6;\n",
              "      --disabled-fill-color: #AAA;\n",
              "      --disabled-bg-color: #DDD;\n",
              "  }\n",
              "\n",
              "  [theme=dark] .colab-df-quickchart {\n",
              "      --bg-color: #3B4455;\n",
              "      --fill-color: #D2E3FC;\n",
              "      --hover-bg-color: #434B5C;\n",
              "      --hover-fill-color: #FFFFFF;\n",
              "      --disabled-bg-color: #3B4455;\n",
              "      --disabled-fill-color: #666;\n",
              "  }\n",
              "\n",
              "  .colab-df-quickchart {\n",
              "    background-color: var(--bg-color);\n",
              "    border: none;\n",
              "    border-radius: 50%;\n",
              "    cursor: pointer;\n",
              "    display: none;\n",
              "    fill: var(--fill-color);\n",
              "    height: 32px;\n",
              "    padding: 0;\n",
              "    width: 32px;\n",
              "  }\n",
              "\n",
              "  .colab-df-quickchart:hover {\n",
              "    background-color: var(--hover-bg-color);\n",
              "    box-shadow: 0 1px 2px rgba(60, 64, 67, 0.3), 0 1px 3px 1px rgba(60, 64, 67, 0.15);\n",
              "    fill: var(--button-hover-fill-color);\n",
              "  }\n",
              "\n",
              "  .colab-df-quickchart-complete:disabled,\n",
              "  .colab-df-quickchart-complete:disabled:hover {\n",
              "    background-color: var(--disabled-bg-color);\n",
              "    fill: var(--disabled-fill-color);\n",
              "    box-shadow: none;\n",
              "  }\n",
              "\n",
              "  .colab-df-spinner {\n",
              "    border: 2px solid var(--fill-color);\n",
              "    border-color: transparent;\n",
              "    border-bottom-color: var(--fill-color);\n",
              "    animation:\n",
              "      spin 1s steps(1) infinite;\n",
              "  }\n",
              "\n",
              "  @keyframes spin {\n",
              "    0% {\n",
              "      border-color: transparent;\n",
              "      border-bottom-color: var(--fill-color);\n",
              "      border-left-color: var(--fill-color);\n",
              "    }\n",
              "    20% {\n",
              "      border-color: transparent;\n",
              "      border-left-color: var(--fill-color);\n",
              "      border-top-color: var(--fill-color);\n",
              "    }\n",
              "    30% {\n",
              "      border-color: transparent;\n",
              "      border-left-color: var(--fill-color);\n",
              "      border-top-color: var(--fill-color);\n",
              "      border-right-color: var(--fill-color);\n",
              "    }\n",
              "    40% {\n",
              "      border-color: transparent;\n",
              "      border-right-color: var(--fill-color);\n",
              "      border-top-color: var(--fill-color);\n",
              "    }\n",
              "    60% {\n",
              "      border-color: transparent;\n",
              "      border-right-color: var(--fill-color);\n",
              "    }\n",
              "    80% {\n",
              "      border-color: transparent;\n",
              "      border-right-color: var(--fill-color);\n",
              "      border-bottom-color: var(--fill-color);\n",
              "    }\n",
              "    90% {\n",
              "      border-color: transparent;\n",
              "      border-bottom-color: var(--fill-color);\n",
              "    }\n",
              "  }\n",
              "</style>\n",
              "\n",
              "  <script>\n",
              "    async function quickchart(key) {\n",
              "      const quickchartButtonEl =\n",
              "        document.querySelector('#' + key + ' button');\n",
              "      quickchartButtonEl.disabled = true;  // To prevent multiple clicks.\n",
              "      quickchartButtonEl.classList.add('colab-df-spinner');\n",
              "      try {\n",
              "        const charts = await google.colab.kernel.invokeFunction(\n",
              "            'suggestCharts', [key], {});\n",
              "      } catch (error) {\n",
              "        console.error('Error during call to suggestCharts:', error);\n",
              "      }\n",
              "      quickchartButtonEl.classList.remove('colab-df-spinner');\n",
              "      quickchartButtonEl.classList.add('colab-df-quickchart-complete');\n",
              "    }\n",
              "    (() => {\n",
              "      let quickchartButtonEl =\n",
              "        document.querySelector('#df-0d175602-de64-4572-953b-47519184003f button');\n",
              "      quickchartButtonEl.style.display =\n",
              "        google.colab.kernel.accessAllowed ? 'block' : 'none';\n",
              "    })();\n",
              "  </script>\n",
              "</div>\n",
              "    </div>\n",
              "  </div>\n"
            ]
          },
          "metadata": {},
          "execution_count": 31
        }
      ],
      "source": [
        "df.head()"
      ]
    },
    {
      "cell_type": "code",
      "execution_count": null,
      "metadata": {
        "id": "dEUnpf9yMpz2"
      },
      "outputs": [],
      "source": [
        "train_data, test_data = split_data(df, TRAIN_SIZE)"
      ]
    },
    {
      "cell_type": "code",
      "execution_count": null,
      "metadata": {
        "id": "6FlHbVmBMuy6"
      },
      "outputs": [],
      "source": [
        "mean, std, train_data, test_data = normalize_data(train_data, test_data)"
      ]
    },
    {
      "cell_type": "code",
      "execution_count": null,
      "metadata": {
        "id": "5oLmdQHGVquo",
        "colab": {
          "base_uri": "https://localhost:8080/"
        },
        "outputId": "dcde0967-7d16-42fc-bf28-f31c76bbd148"
      },
      "outputs": [
        {
          "output_type": "stream",
          "name": "stdout",
          "text": [
            "      P1  P2        P3        P4        P5        P6  P7  P8  P9\n",
            "0    0.0 NaN -0.877799  1.068004 -0.142768 -0.852615 NaN NaN NaN\n",
            "1    0.0 NaN -0.877799  1.068004 -0.142768 -0.852615 NaN NaN NaN\n",
            "2    0.0 NaN -0.877799  1.068004 -0.142768 -0.852615 NaN NaN NaN\n",
            "3    0.0 NaN -0.877799  1.068004 -0.142768 -0.852615 NaN NaN NaN\n",
            "4    0.0 NaN -0.877799  1.068004 -0.142768 -0.852615 NaN NaN NaN\n",
            "..   ...  ..       ...       ...       ...       ...  ..  ..  ..\n",
            "795  0.0 NaN  0.871458 -0.935286 -0.142768 -0.852615 NaN NaN NaN\n",
            "796  0.0 NaN  0.871458 -0.935286 -0.142768 -0.852615 NaN NaN NaN\n",
            "797  0.0 NaN  0.871458 -0.935286 -0.142768 -0.852615 NaN NaN NaN\n",
            "798  0.0 NaN  0.871458 -0.935286 -0.142768 -0.852615 NaN NaN NaN\n",
            "799  0.0 NaN  0.871458 -0.935286 -0.142768 -0.852615 NaN NaN NaN\n",
            "\n",
            "[800 rows x 9 columns]\n"
          ]
        }
      ],
      "source": [
        "print(train_data)"
      ]
    },
    {
      "cell_type": "code",
      "execution_count": null,
      "metadata": {
        "id": "ZI9FgJT2Mx0d",
        "colab": {
          "base_uri": "https://localhost:8080/"
        },
        "outputId": "75ca87de-ac32-40a7-a493-2360afd8e1cb"
      },
      "outputs": [
        {
          "output_type": "stream",
          "name": "stdout",
          "text": [
            "Mean:  P1    -0.046900\n",
            "P2    -0.038500\n",
            "P3     0.005621\n",
            "P4     0.011050\n",
            "P5    38.020000\n",
            "P6    52.421250\n",
            "P7     0.000000\n",
            "P8     0.000000\n",
            "P9     0.000000\n",
            "dtype: float64\n",
            "Standard Deviation:  P1    0.032293\n",
            "P2    0.000000\n",
            "P3    0.000229\n",
            "P4    0.000150\n",
            "P5    0.140088\n",
            "P6    0.494068\n",
            "P7    0.000000\n",
            "P8    0.000000\n",
            "P9    0.000000\n",
            "dtype: float64\n"
          ]
        }
      ],
      "source": [
        "print(\"Mean: \", mean)\n",
        "print(\"Standard Deviation: \", std)"
      ]
    },
    {
      "cell_type": "code",
      "execution_count": null,
      "metadata": {
        "id": "dasFQeWhM2Um",
        "colab": {
          "base_uri": "https://localhost:8080/"
        },
        "outputId": "001baf7d-94dd-4e25-e191-0ef760a55e2c"
      },
      "outputs": [
        {
          "output_type": "execute_result",
          "data": {
            "text/plain": [
              "(9, 1)"
            ]
          },
          "metadata": {},
          "execution_count": 36
        }
      ],
      "source": [
        "INPUT_SHAPE = (train_data.shape[1], 1)\n",
        "INPUT_SHAPE"
      ]
    },
    {
      "cell_type": "code",
      "execution_count": null,
      "metadata": {
        "id": "UxFC5-KoPQ5K",
        "colab": {
          "base_uri": "https://localhost:8080/"
        },
        "outputId": "531854d7-4179-4976-eacb-dcc9cfed7141"
      },
      "outputs": [
        {
          "output_type": "execute_result",
          "data": {
            "text/plain": [
              "(800, 9)"
            ]
          },
          "metadata": {},
          "execution_count": 37
        }
      ],
      "source": [
        "train_data.shape"
      ]
    },
    {
      "cell_type": "code",
      "execution_count": null,
      "metadata": {
        "id": "HOAIiy1rM4eB",
        "colab": {
          "base_uri": "https://localhost:8080/"
        },
        "outputId": "74ea923c-dddd-42bf-9201-d5f469c2f7a6"
      },
      "outputs": [
        {
          "output_type": "stream",
          "name": "stderr",
          "text": [
            "WARNING:tensorflow:Layer lstm will not use cuDNN kernels since it doesn't meet the criteria. It will use a generic GPU kernel as fallback when running on GPU.\n",
            "WARNING:tensorflow:Layer lstm_1 will not use cuDNN kernels since it doesn't meet the criteria. It will use a generic GPU kernel as fallback when running on GPU.\n",
            "WARNING:tensorflow:Layer lstm_2 will not use cuDNN kernels since it doesn't meet the criteria. It will use a generic GPU kernel as fallback when running on GPU.\n",
            "WARNING:tensorflow:Layer lstm_3 will not use cuDNN kernels since it doesn't meet the criteria. It will use a generic GPU kernel as fallback when running on GPU.\n"
          ]
        }
      ],
      "source": [
        "model= build_model(INPUT_SHAPE,EXT_LSTM_UNITS,INT_LSTM_UNITS)"
      ]
    },
    {
      "cell_type": "code",
      "execution_count": null,
      "metadata": {
        "id": "1ftH1C4tND7m",
        "colab": {
          "base_uri": "https://localhost:8080/"
        },
        "outputId": "13c343cb-648f-4f7c-ebdd-e7faebf997e6"
      },
      "outputs": [
        {
          "output_type": "stream",
          "name": "stdout",
          "text": [
            "Epoch 1/50\n",
            "7/7 [==============================] - 11s 161ms/step - loss: nan - val_loss: nan\n",
            "Epoch 2/50\n",
            "7/7 [==============================] - 0s 65ms/step - loss: nan - val_loss: nan\n",
            "Epoch 3/50\n",
            "7/7 [==============================] - 0s 72ms/step - loss: nan - val_loss: nan\n",
            "Epoch 4/50\n",
            "7/7 [==============================] - 1s 80ms/step - loss: nan - val_loss: nan\n",
            "Epoch 5/50\n",
            "7/7 [==============================] - 0s 69ms/step - loss: nan - val_loss: nan\n",
            "Epoch 6/50\n",
            "7/7 [==============================] - 0s 66ms/step - loss: nan - val_loss: nan\n",
            "Epoch 7/50\n",
            "7/7 [==============================] - 0s 71ms/step - loss: nan - val_loss: nan\n",
            "Epoch 8/50\n",
            "7/7 [==============================] - 0s 73ms/step - loss: nan - val_loss: nan\n",
            "Epoch 9/50\n",
            "7/7 [==============================] - 0s 70ms/step - loss: nan - val_loss: nan\n",
            "Epoch 10/50\n",
            "7/7 [==============================] - 0s 72ms/step - loss: nan - val_loss: nan\n",
            "Epoch 11/50\n",
            "7/7 [==============================] - 0s 67ms/step - loss: nan - val_loss: nan\n",
            "Epoch 12/50\n",
            "7/7 [==============================] - 1s 78ms/step - loss: nan - val_loss: nan\n",
            "Epoch 13/50\n",
            "7/7 [==============================] - 1s 102ms/step - loss: nan - val_loss: nan\n",
            "Epoch 14/50\n",
            "7/7 [==============================] - 1s 155ms/step - loss: nan - val_loss: nan\n",
            "Epoch 15/50\n",
            "7/7 [==============================] - 1s 153ms/step - loss: nan - val_loss: nan\n",
            "Epoch 16/50\n",
            "7/7 [==============================] - 1s 138ms/step - loss: nan - val_loss: nan\n",
            "Epoch 17/50\n",
            "7/7 [==============================] - 1s 86ms/step - loss: nan - val_loss: nan\n",
            "Epoch 18/50\n",
            "7/7 [==============================] - 0s 69ms/step - loss: nan - val_loss: nan\n",
            "Epoch 19/50\n",
            "7/7 [==============================] - 0s 73ms/step - loss: nan - val_loss: nan\n",
            "Epoch 20/50\n",
            "7/7 [==============================] - 0s 70ms/step - loss: nan - val_loss: nan\n",
            "Epoch 21/50\n",
            "7/7 [==============================] - 0s 70ms/step - loss: nan - val_loss: nan\n",
            "Epoch 22/50\n",
            "7/7 [==============================] - 0s 68ms/step - loss: nan - val_loss: nan\n",
            "Epoch 23/50\n",
            "7/7 [==============================] - 1s 76ms/step - loss: nan - val_loss: nan\n",
            "Epoch 24/50\n",
            "7/7 [==============================] - 1s 122ms/step - loss: nan - val_loss: nan\n",
            "Epoch 25/50\n",
            "7/7 [==============================] - 1s 125ms/step - loss: nan - val_loss: nan\n",
            "Epoch 26/50\n",
            "7/7 [==============================] - 1s 74ms/step - loss: nan - val_loss: nan\n",
            "Epoch 27/50\n",
            "7/7 [==============================] - 1s 100ms/step - loss: nan - val_loss: nan\n",
            "Epoch 28/50\n",
            "7/7 [==============================] - 1s 80ms/step - loss: nan - val_loss: nan\n",
            "Epoch 29/50\n",
            "7/7 [==============================] - 0s 68ms/step - loss: nan - val_loss: nan\n",
            "Epoch 30/50\n",
            "7/7 [==============================] - 1s 74ms/step - loss: nan - val_loss: nan\n",
            "Epoch 31/50\n",
            "7/7 [==============================] - 0s 65ms/step - loss: nan - val_loss: nan\n",
            "Epoch 32/50\n",
            "7/7 [==============================] - 1s 68ms/step - loss: nan - val_loss: nan\n",
            "Epoch 33/50\n",
            "7/7 [==============================] - 0s 67ms/step - loss: nan - val_loss: nan\n",
            "Epoch 34/50\n",
            "7/7 [==============================] - 1s 72ms/step - loss: nan - val_loss: nan\n",
            "Epoch 35/50\n",
            "7/7 [==============================] - 1s 89ms/step - loss: nan - val_loss: nan\n",
            "Epoch 36/50\n",
            "7/7 [==============================] - 1s 149ms/step - loss: nan - val_loss: nan\n",
            "Epoch 37/50\n",
            "7/7 [==============================] - 1s 146ms/step - loss: nan - val_loss: nan\n",
            "Epoch 38/50\n",
            "7/7 [==============================] - 1s 134ms/step - loss: nan - val_loss: nan\n",
            "Epoch 39/50\n",
            "7/7 [==============================] - 1s 115ms/step - loss: nan - val_loss: nan\n",
            "Epoch 40/50\n",
            "7/7 [==============================] - 0s 71ms/step - loss: nan - val_loss: nan\n",
            "Epoch 41/50\n",
            "7/7 [==============================] - 1s 74ms/step - loss: nan - val_loss: nan\n",
            "Epoch 42/50\n",
            "7/7 [==============================] - 0s 68ms/step - loss: nan - val_loss: nan\n",
            "Epoch 43/50\n",
            "7/7 [==============================] - 1s 78ms/step - loss: nan - val_loss: nan\n",
            "Epoch 44/50\n",
            "7/7 [==============================] - 0s 71ms/step - loss: nan - val_loss: nan\n",
            "Epoch 45/50\n",
            "7/7 [==============================] - 0s 70ms/step - loss: nan - val_loss: nan\n",
            "Epoch 46/50\n",
            "7/7 [==============================] - 0s 71ms/step - loss: nan - val_loss: nan\n",
            "Epoch 47/50\n",
            "7/7 [==============================] - 0s 68ms/step - loss: nan - val_loss: nan\n",
            "Epoch 48/50\n",
            "7/7 [==============================] - 0s 68ms/step - loss: nan - val_loss: nan\n",
            "Epoch 49/50\n",
            "7/7 [==============================] - 0s 68ms/step - loss: nan - val_loss: nan\n",
            "Epoch 50/50\n",
            "7/7 [==============================] - 1s 77ms/step - loss: nan - val_loss: nan\n"
          ]
        }
      ],
      "source": [
        "history = train_model(model, train_data)\n"
      ]
    },
    {
      "cell_type": "code",
      "execution_count": null,
      "metadata": {
        "id": "yOH5ivMANwL5",
        "colab": {
          "base_uri": "https://localhost:8080/"
        },
        "outputId": "819297bc-7bac-40a4-bb7f-a6ddd80b2011"
      },
      "outputs": [
        {
          "output_type": "stream",
          "name": "stdout",
          "text": [
            "5306/5306 [==============================] - 44s 8ms/step\n"
          ]
        }
      ],
      "source": [
        "test_predictions = predict(model, test_data)"
      ]
    },
    {
      "cell_type": "code",
      "execution_count": null,
      "metadata": {
        "id": "TN4XDxocOphZ",
        "colab": {
          "base_uri": "https://localhost:8080/"
        },
        "outputId": "973f1013-c6de-436e-d68d-f323f17fe7f3"
      },
      "outputs": [
        {
          "output_type": "execute_result",
          "data": {
            "text/plain": [
              "array([[[nan],\n",
              "        [nan],\n",
              "        [nan],\n",
              "        ...,\n",
              "        [nan],\n",
              "        [nan],\n",
              "        [nan]],\n",
              "\n",
              "       [[nan],\n",
              "        [nan],\n",
              "        [nan],\n",
              "        ...,\n",
              "        [nan],\n",
              "        [nan],\n",
              "        [nan]],\n",
              "\n",
              "       [[nan],\n",
              "        [nan],\n",
              "        [nan],\n",
              "        ...,\n",
              "        [nan],\n",
              "        [nan],\n",
              "        [nan]],\n",
              "\n",
              "       ...,\n",
              "\n",
              "       [[nan],\n",
              "        [nan],\n",
              "        [nan],\n",
              "        ...,\n",
              "        [nan],\n",
              "        [nan],\n",
              "        [nan]],\n",
              "\n",
              "       [[nan],\n",
              "        [nan],\n",
              "        [nan],\n",
              "        ...,\n",
              "        [nan],\n",
              "        [nan],\n",
              "        [nan]],\n",
              "\n",
              "       [[nan],\n",
              "        [nan],\n",
              "        [nan],\n",
              "        ...,\n",
              "        [nan],\n",
              "        [nan],\n",
              "        [nan]]], dtype=float32)"
            ]
          },
          "metadata": {},
          "execution_count": 41
        }
      ],
      "source": [
        "test_predictions"
      ]
    },
    {
      "cell_type": "code",
      "execution_count": null,
      "metadata": {
        "id": "ODq6bN2sQYU_",
        "colab": {
          "base_uri": "https://localhost:8080/"
        },
        "outputId": "fc9f371d-95e5-4cbd-ea52-cbb8a4fc3e7c"
      },
      "outputs": [
        {
          "output_type": "execute_result",
          "data": {
            "text/plain": [
              "(169785, 9, 1)"
            ]
          },
          "metadata": {},
          "execution_count": 42
        }
      ],
      "source": [
        "test_predictions.shape"
      ]
    },
    {
      "cell_type": "code",
      "execution_count": null,
      "metadata": {
        "id": "EiDyjRn7QbWJ",
        "colab": {
          "base_uri": "https://localhost:8080/"
        },
        "outputId": "be22ef08-1f21-464f-a1f4-5c3b18de835d"
      },
      "outputs": [
        {
          "output_type": "execute_result",
          "data": {
            "text/plain": [
              "(169785, 9)"
            ]
          },
          "metadata": {},
          "execution_count": 43
        }
      ],
      "source": [
        "test_data.shape"
      ]
    },
    {
      "cell_type": "code",
      "execution_count": null,
      "metadata": {
        "id": "IPiuTxysOjpK",
        "colab": {
          "base_uri": "https://localhost:8080/"
        },
        "outputId": "def67593-cde6-42e2-9b8d-f324c1129011"
      },
      "outputs": [
        {
          "output_type": "stream",
          "name": "stdout",
          "text": [
            "test_data shape (169785, 9)\n",
            "predictions shape (169785, 9)\n",
            "Mean Square Error =  800      NaN\n",
            "801      NaN\n",
            "802      NaN\n",
            "803      NaN\n",
            "804      NaN\n",
            "          ..\n",
            "170580   NaN\n",
            "170581   NaN\n",
            "170582   NaN\n",
            "170583   NaN\n",
            "170584   NaN\n",
            "Length: 169785, dtype: float64\n"
          ]
        }
      ],
      "source": [
        "mse = calculate_error(test_data, test_predictions.reshape(169785,9))\n",
        "print(\"Mean Square Error = \", mse)"
      ]
    },
    {
      "cell_type": "code",
      "execution_count": null,
      "metadata": {
        "id": "QkzEIgRrQk-K",
        "colab": {
          "base_uri": "https://localhost:8080/"
        },
        "outputId": "3292a7bf-caee-4eee-c0a1-1777fa9a61d3"
      },
      "outputs": [
        {
          "output_type": "stream",
          "name": "stdout",
          "text": [
            "Threshold =  nan\n"
          ]
        },
        {
          "output_type": "execute_result",
          "data": {
            "text/plain": [
              "(0,)"
            ]
          },
          "metadata": {},
          "execution_count": 45
        }
      ],
      "source": [
        "anomalies = detect_anamolies(mse)\n",
        "anomalies.shape"
      ]
    },
    {
      "cell_type": "code",
      "execution_count": null,
      "metadata": {
        "id": "5DuUHa5AQxfe",
        "colab": {
          "base_uri": "https://localhost:8080/",
          "height": 1144
        },
        "outputId": "066180b6-f34d-4b2c-868d-44838f51eff7"
      },
      "outputs": [
        {
          "output_type": "display_data",
          "data": {
            "text/plain": [
              "<Figure size 1400x1000 with 1 Axes>"
            ],
            "image/png": "[encoded data removed]"
          },
          "metadata": {}
        },
        {
          "output_type": "display_data",
          "data": {
            "text/plain": [
              "<Figure size 1200x400 with 1 Axes>"
            ],
            "image/png": "[encoded data removed]"
          },
          "metadata": {}
        }
      ],
      "source": [
        "plot_results(test_data, anomalies)"
      ]
    },
    {
      "cell_type": "code",
      "execution_count": null,
      "metadata": {
        "id": "IxcmvgXLX6Jk"
      },
      "outputs": [],
      "source": [
        "def run_script():\n",
        "  df = load_data(\"/content/Dataset 2 .csv\")\n",
        "  print(df.head())\n",
        "  train_data, test_data = split_data(df, TRAIN_SIZE)\n",
        "  #mean, std, train_data, test_data = normalize_data(train_data, test_data)\n",
        "  print(\"####TRAIN DATA#####\")\n",
        "  print(train_data)\n",
        "  print(\"###################\")\n",
        "  # print(\"Mean: \", mean)\n",
        "  # print(\"Standard Deviation: \", std)\n",
        "  INPUT_SHAPE = (train_data.shape[1], 1)\n",
        "  print(\"INPUT SHAPE: \",INPUT_SHAPE)\n",
        "  print(\"Building model ...\")\n",
        "  model= build_model(INPUT_SHAPE,EXT_LSTM_UNITS,INT_LSTM_UNITS)\n",
        "  print(\"Training model ...\")\n",
        "  history = train_model(model, train_data)\n",
        "  print(\"PREDICTIONS\")\n",
        "  test_predictions = predict(model, test_data)\n",
        "  shape = test_data.shape[0]\n",
        "  mse = calculate_error(test_data, test_predictions.reshape(test_data.shape))\n",
        "  print(\"Mean Square Error = \", mse)\n",
        "  anomalies = detect_anamolies(mse)\n",
        "  print(\"ANOMALIES :\" ,anomalies)\n",
        "\n",
        "  #plot_results(test_data,anomalies)\n",
        "  print(\"END\")\n"
      ]
    },
    {
      "cell_type": "code",
      "execution_count": null,
      "metadata": {
        "colab": {
          "base_uri": "https://localhost:8080/"
        },
        "id": "2mbCMqA_KwLP",
        "outputId": "5b37958d-ea17-4954-ac88-d67accf74a48"
      },
      "outputs": [
        {
          "output_type": "stream",
          "name": "stderr",
          "text": [
            "WARNING:tensorflow:Layer lstm_4 will not use cuDNN kernels since it doesn't meet the criteria. It will use a generic GPU kernel as fallback when running on GPU.\n",
            "WARNING:tensorflow:Layer lstm_5 will not use cuDNN kernels since it doesn't meet the criteria. It will use a generic GPU kernel as fallback when running on GPU.\n"
          ]
        },
        {
          "output_type": "stream",
          "name": "stdout",
          "text": [
            "       P1      P2       P3       P4    P5  P6  P7  P8  P9\n",
            "0 -0.0469 -0.0385  0.00542  0.01121  38.0  52   0   0   0\n",
            "1 -0.0469 -0.0385  0.00542  0.01121  38.0  52   0   0   0\n",
            "2 -0.0469 -0.0385  0.00542  0.01121  38.0  52   0   0   0\n",
            "3 -0.0469 -0.0385  0.00542  0.01121  38.0  52   0   0   0\n",
            "4 -0.0469 -0.0385  0.00542  0.01121  38.0  52   0   0   0\n",
            "####TRAIN DATA#####\n",
            "         P1      P2       P3       P4    P5  P6  P7  P8  P9\n",
            "0   -0.0469 -0.0385  0.00542  0.01121  38.0  52   0   0   0\n",
            "1   -0.0469 -0.0385  0.00542  0.01121  38.0  52   0   0   0\n",
            "2   -0.0469 -0.0385  0.00542  0.01121  38.0  52   0   0   0\n",
            "3   -0.0469 -0.0385  0.00542  0.01121  38.0  52   0   0   0\n",
            "4   -0.0469 -0.0385  0.00542  0.01121  38.0  52   0   0   0\n",
            "..      ...     ...      ...      ...   ...  ..  ..  ..  ..\n",
            "795 -0.0469 -0.0385  0.00582  0.01091  38.0  52   0   0   0\n",
            "796 -0.0469 -0.0385  0.00582  0.01091  38.0  52   0   0   0\n",
            "797 -0.0469 -0.0385  0.00582  0.01091  38.0  52   0   0   0\n",
            "798 -0.0469 -0.0385  0.00582  0.01091  38.0  52   0   0   0\n",
            "799 -0.0469 -0.0385  0.00582  0.01091  38.0  52   0   0   0\n",
            "\n",
            "[800 rows x 9 columns]\n",
            "###################\n",
            "INPUT SHAPE:  (9, 1)\n",
            "Building model ...\n"
          ]
        },
        {
          "output_type": "stream",
          "name": "stderr",
          "text": [
            "WARNING:tensorflow:Layer lstm_6 will not use cuDNN kernels since it doesn't meet the criteria. It will use a generic GPU kernel as fallback when running on GPU.\n",
            "WARNING:tensorflow:Layer lstm_7 will not use cuDNN kernels since it doesn't meet the criteria. It will use a generic GPU kernel as fallback when running on GPU.\n"
          ]
        },
        {
          "output_type": "stream",
          "name": "stdout",
          "text": [
            "Training model ...\n",
            "Epoch 1/50\n",
            "7/7 [==============================] - 6s 167ms/step - loss: 434.9923 - val_loss: 371.5020\n",
            "Epoch 2/50\n",
            "7/7 [==============================] - 1s 84ms/step - loss: 309.2415 - val_loss: 198.2149\n",
            "Epoch 3/50\n",
            "7/7 [==============================] - 0s 68ms/step - loss: 145.4350 - val_loss: 77.0368\n",
            "Epoch 4/50\n",
            "7/7 [==============================] - 0s 71ms/step - loss: 52.5559 - val_loss: 30.6440\n",
            "Epoch 5/50\n",
            "7/7 [==============================] - 0s 66ms/step - loss: 17.9564 - val_loss: 3.8803\n",
            "Epoch 6/50\n",
            "7/7 [==============================] - 0s 68ms/step - loss: 3.3632 - val_loss: 3.8275\n",
            "Epoch 7/50\n",
            "7/7 [==============================] - 0s 67ms/step - loss: 2.9099 - val_loss: 1.3291\n",
            "Epoch 8/50\n",
            "7/7 [==============================] - 1s 74ms/step - loss: 0.8797 - val_loss: 0.5217\n",
            "Epoch 9/50\n",
            "7/7 [==============================] - 0s 69ms/step - loss: 0.4805 - val_loss: 0.2662\n",
            "Epoch 10/50\n",
            "7/7 [==============================] - 1s 95ms/step - loss: 0.1406 - val_loss: 0.0549\n",
            "Epoch 11/50\n",
            "7/7 [==============================] - 1s 141ms/step - loss: 0.0748 - val_loss: 0.0684\n",
            "Epoch 12/50\n",
            "7/7 [==============================] - 1s 159ms/step - loss: 0.0493 - val_loss: 0.0340\n",
            "Epoch 13/50\n",
            "7/7 [==============================] - 1s 129ms/step - loss: 0.0431 - val_loss: 0.0371\n",
            "Epoch 14/50\n",
            "7/7 [==============================] - 1s 102ms/step - loss: 0.0305 - val_loss: 0.0206\n",
            "Epoch 15/50\n",
            "7/7 [==============================] - 0s 68ms/step - loss: 0.0250 - val_loss: 0.0190\n",
            "Epoch 16/50\n",
            "7/7 [==============================] - 0s 67ms/step - loss: 0.0210 - val_loss: 0.0147\n",
            "Epoch 17/50\n",
            "7/7 [==============================] - 0s 68ms/step - loss: 0.0203 - val_loss: 0.0141\n",
            "Epoch 18/50\n",
            "7/7 [==============================] - 0s 67ms/step - loss: 0.0202 - val_loss: 0.0209\n",
            "Epoch 19/50\n",
            "7/7 [==============================] - 0s 69ms/step - loss: 0.0201 - val_loss: 0.0187\n",
            "Epoch 20/50\n",
            "7/7 [==============================] - 0s 72ms/step - loss: 0.0205 - val_loss: 0.0200\n",
            "Epoch 21/50\n",
            "7/7 [==============================] - 1s 78ms/step - loss: 0.0202 - val_loss: 0.0129\n",
            "Epoch 22/50\n",
            "7/7 [==============================] - 0s 69ms/step - loss: 0.0199 - val_loss: 0.0174\n",
            "Epoch 23/50\n",
            "7/7 [==============================] - 1s 73ms/step - loss: 0.0187 - val_loss: 0.0150\n",
            "Epoch 24/50\n",
            "7/7 [==============================] - 0s 69ms/step - loss: 0.0186 - val_loss: 0.0136\n",
            "Epoch 25/50\n",
            "7/7 [==============================] - 0s 69ms/step - loss: 0.0176 - val_loss: 0.0201\n",
            "Epoch 26/50\n",
            "7/7 [==============================] - 0s 68ms/step - loss: 0.0190 - val_loss: 0.0115\n",
            "Epoch 27/50\n",
            "7/7 [==============================] - 1s 76ms/step - loss: 0.0174 - val_loss: 0.0118\n",
            "Epoch 28/50\n",
            "7/7 [==============================] - 0s 70ms/step - loss: 0.0173 - val_loss: 0.0180\n",
            "Epoch 29/50\n",
            "7/7 [==============================] - 1s 78ms/step - loss: 0.0176 - val_loss: 0.0115\n",
            "Epoch 30/50\n",
            "7/7 [==============================] - 1s 73ms/step - loss: 0.0194 - val_loss: 0.0133\n",
            "Epoch 31/50\n",
            "7/7 [==============================] - 0s 68ms/step - loss: 0.0177 - val_loss: 0.0150\n",
            "Epoch 32/50\n",
            "7/7 [==============================] - 0s 65ms/step - loss: 0.0180 - val_loss: 0.0182\n",
            "Epoch 33/50\n",
            "7/7 [==============================] - 0s 67ms/step - loss: 0.0176 - val_loss: 0.0122\n",
            "Epoch 34/50\n",
            "7/7 [==============================] - 0s 69ms/step - loss: 0.0162 - val_loss: 0.0112\n",
            "Epoch 35/50\n",
            "7/7 [==============================] - 1s 138ms/step - loss: 0.0179 - val_loss: 0.0128\n",
            "Epoch 36/50\n",
            "7/7 [==============================] - 1s 142ms/step - loss: 0.0172 - val_loss: 0.0134\n",
            "Epoch 37/50\n",
            "7/7 [==============================] - 1s 156ms/step - loss: 0.0177 - val_loss: 0.0168\n",
            "Epoch 38/50\n",
            "7/7 [==============================] - 1s 122ms/step - loss: 0.0171 - val_loss: 0.0126\n",
            "Epoch 39/50\n",
            "7/7 [==============================] - 0s 70ms/step - loss: 0.0163 - val_loss: 0.0111\n",
            "Epoch 40/50\n",
            "7/7 [==============================] - 1s 79ms/step - loss: 0.0163 - val_loss: 0.0140\n",
            "Epoch 41/50\n",
            "7/7 [==============================] - 0s 68ms/step - loss: 0.0147 - val_loss: 0.0153\n",
            "Epoch 42/50\n",
            "7/7 [==============================] - 0s 68ms/step - loss: 0.0168 - val_loss: 0.0096\n",
            "Epoch 43/50\n",
            "7/7 [==============================] - 0s 69ms/step - loss: 0.0232 - val_loss: 0.0112\n",
            "Epoch 44/50\n",
            "7/7 [==============================] - 0s 70ms/step - loss: 0.0243 - val_loss: 0.0134\n",
            "Epoch 45/50\n",
            "7/7 [==============================] - 1s 75ms/step - loss: 0.0164 - val_loss: 0.0095\n",
            "Epoch 46/50\n",
            "7/7 [==============================] - 0s 73ms/step - loss: 0.0156 - val_loss: 0.0122\n",
            "Epoch 47/50\n",
            "7/7 [==============================] - 0s 69ms/step - loss: 0.0146 - val_loss: 0.0157\n",
            "Epoch 48/50\n",
            "7/7 [==============================] - 0s 68ms/step - loss: 0.0182 - val_loss: 0.0239\n",
            "Epoch 49/50\n",
            "7/7 [==============================] - 1s 73ms/step - loss: 0.0157 - val_loss: 0.0109\n",
            "Epoch 50/50\n",
            "7/7 [==============================] - 0s 72ms/step - loss: 0.0143 - val_loss: 0.0181\n",
            "PREDICTIONS\n",
            "5306/5306 [==============================] - 43s 8ms/step\n",
            "test_data shape (169785, 9)\n",
            "predictions shape (169785, 9)\n",
            "Mean Square Error =  800       0.023079\n",
            "801       0.023079\n",
            "802       0.023079\n",
            "803       0.023079\n",
            "804       0.023079\n",
            "            ...   \n",
            "170580         NaN\n",
            "170581         NaN\n",
            "170582         NaN\n",
            "170583         NaN\n",
            "170584         NaN\n",
            "Length: 169785, dtype: float64\n",
            "Threshold =  47.49\n",
            "ANOMALIES : [ 14615  14616  14617 ... 110591 110592 110593]\n",
            "END\n"
          ]
        }
      ],
      "source": [
        "run_script()"
      ]
    },
    {
      "cell_type": "code",
      "source": [
        "df.iloc[3160,:]"
      ],
      "metadata": {
        "colab": {
          "base_uri": "https://localhost:8080/"
        },
        "id": "CsF9-jGnHa2y",
        "outputId": "cf0a7894-1244-409f-f4e9-3d7f50a5cfef"
      },
      "execution_count": null,
      "outputs": [
        {
          "output_type": "execute_result",
          "data": {
            "text/plain": [
              "P1    -0.04690\n",
              "P2    -0.03850\n",
              "P3     0.00567\n",
              "P4     0.01126\n",
              "P5    38.00000\n",
              "P6    52.00000\n",
              "P7     0.00000\n",
              "P8     0.00000\n",
              "P9     0.00000\n",
              "Name: 3160, dtype: float64"
            ]
          },
          "metadata": {},
          "execution_count": 49
        }
      ]
    },
    {
      "cell_type": "markdown",
      "metadata": {
        "id": "nf5TUVMlX5jY"
      },
      "source": []
    },
    {
      "cell_type": "code",
      "execution_count": null,
      "metadata": {
        "id": "TRcIapAta221",
        "colab": {
          "base_uri": "https://localhost:8080/",
          "height": 3762
        },
        "outputId": "0fc6b9ce-6f0b-4ec6-e737-fdd1039f5a73"
      },
      "outputs": [
        {
          "output_type": "display_data",
          "data": {
            "text/plain": [
              "<Figure size 1000x600 with 1 Axes>"
            ],
            "image/png": "[encoded data removed]"
          },
          "metadata": {}
        },
        {
          "output_type": "display_data",
          "data": {
            "text/plain": [
              "<Figure size 1000x600 with 1 Axes>"
            ],
            "image/png": "[encoded data removed]"
          },
          "metadata": {}
        },
        {
          "output_type": "display_data",
          "data": {
            "text/plain": [
              "<Figure size 1000x600 with 1 Axes>"
            ],
            "image/png": "[encoded data removed]"
          },
          "metadata": {}
        },
        {
          "output_type": "display_data",
          "data": {
            "text/plain": [
              "<Figure size 1000x600 with 1 Axes>"
            ],
            "image/png": "[encoded data removed]"
          },
          "metadata": {}
        },
        {
          "output_type": "display_data",
          "data": {
            "text/plain": [
              "<Figure size 1000x600 with 1 Axes>"
            ],
            "image/png": "[encoded data removed]"
          },
          "metadata": {}
        },
        {
          "output_type": "display_data",
          "data": {
            "text/plain": [
              "<Figure size 1000x600 with 1 Axes>"
            ],
            "image/png": "[encoded data removed]"
          },
          "metadata": {}
        },
        {
          "output_type": "display_data",
          "data": {
            "text/plain": [
              "<Figure size 1000x600 with 1 Axes>"
            ],
            "image/png": "[encoded data removed]"
          },
          "metadata": {}
        },
        {
          "output_type": "display_data",
          "data": {
            "text/plain": [
              "<Figure size 1000x600 with 1 Axes>"
            ],
            "image/png": "[encoded data removed]"
          },
          "metadata": {}
        },
        {
          "output_type": "display_data",
          "data": {
            "text/plain": [
              "<Figure size 1000x600 with 1 Axes>"
            ],
            "image/png": "[encoded data removed]"
          },
          "metadata": {}
        }
      ],
      "source": [
        "import matplotlib.pyplot as plt\n",
        "import pandas as pd\n",
        "# Assuming df is your DataFrame with columns 'Date', 'Time', 'P1', 'P2', ..., 'P9'\n",
        "# If 'Date' and 'Time' have leading/trailing whitespaces, remove them\n",
        "df = pd.read_csv(\"/content/Dataset 2 .csv\")\n",
        "df.columns = df.columns.str.strip()\n",
        "\n",
        "# If 'Date' and 'Time' are not needed for plotting, you can drop them\n",
        "params_to_plot = df.drop(['Date', 'Time'], axis=1, errors='ignore')\n",
        "\n",
        "# Plot each parameter separately\n",
        "for param in params_to_plot.columns:\n",
        "    plt.figure(figsize=(10, 6))\n",
        "    plt.plot(df[param], label=param)\n",
        "    plt.title(f'{param} Variation Over Time')\n",
        "    plt.xlabel('Index')\n",
        "    plt.ylabel(param)\n",
        "    plt.legend()\n",
        "    plt.show()"
      ]
    },
    {
      "cell_type": "code",
      "execution_count": null,
      "metadata": {
        "id": "eJ3jCZZctOOe"
      },
      "outputs": [],
      "source": [
        "df_temp = pd.read_csv(\"/content/Dataset 2 .csv\")\n"
      ]
    },
    {
      "cell_type": "code",
      "source": [
        "df_temp.iloc[3406\n",
        "             ,:]"
      ],
      "metadata": {
        "colab": {
          "base_uri": "https://localhost:8080/"
        },
        "id": "BuHWmRWEJ90R",
        "outputId": "35196568-2636-4e1d-e7ce-21a2cae449ff"
      },
      "execution_count": null,
      "outputs": [
        {
          "output_type": "execute_result",
          "data": {
            "text/plain": [
              "Date\\t    16-10-2011\n",
              "Time         41:15.2\n",
              "P1           -0.0469\n",
              "P2           -0.0385\n",
              "P3           0.00562\n",
              "P4           0.01096\n",
              "P5              38.0\n",
              "P6                52\n",
              "P7                 0\n",
              "P8                 0\n",
              "P9                 0\n",
              "Name: 3406, dtype: object"
            ]
          },
          "metadata": {},
          "execution_count": 52
        }
      ]
    },
    {
      "cell_type": "code",
      "source": [
        "df = load_data(\"/content/Dataset 2 .csv\")\n",
        "print(df.head())\n",
        "train_data, test_data = split_data(df, TRAIN_SIZE)\n",
        "#mean, std, train_data, test_data = normalize_data(train_data, test_data)\n",
        "print(\"####TRAIN DATA#####\")\n",
        "print(train_data)\n",
        "print(\"###################\")\n",
        "# print(\"Mean: \", mean)\n",
        "# print(\"Standard Deviation: \", std)\n",
        "INPUT_SHAPE = (train_data.shape[1], 1)\n",
        "print(\"INPUT SHAPE: \",INPUT_SHAPE)\n",
        "print(\"Building model ...\")\n",
        "model= build_model(INPUT_SHAPE,EXT_LSTM_UNITS,INT_LSTM_UNITS)\n",
        "print(\"Training model ...\")\n",
        "history = train_model(model, train_data)\n",
        "print(\"PREDICTIONS\")\n",
        "test_predictions = predict(model, test_data)\n",
        "shape = test_data.shape[0]"
      ],
      "metadata": {
        "colab": {
          "base_uri": "https://localhost:8080/"
        },
        "id": "xgaOt7PbKSZq",
        "outputId": "291506e7-fdb0-4694-bc18-c6e2f28fb26c"
      },
      "execution_count": null,
      "outputs": [
        {
          "output_type": "stream",
          "name": "stderr",
          "text": [
            "WARNING:tensorflow:Layer lstm_8 will not use cuDNN kernels since it doesn't meet the criteria. It will use a generic GPU kernel as fallback when running on GPU.\n",
            "WARNING:tensorflow:Layer lstm_9 will not use cuDNN kernels since it doesn't meet the criteria. It will use a generic GPU kernel as fallback when running on GPU.\n",
            "WARNING:tensorflow:Layer lstm_10 will not use cuDNN kernels since it doesn't meet the criteria. It will use a generic GPU kernel as fallback when running on GPU.\n"
          ]
        },
        {
          "output_type": "stream",
          "name": "stdout",
          "text": [
            "       P1      P2       P3       P4    P5  P6  P7  P8  P9\n",
            "0 -0.0469 -0.0385  0.00542  0.01121  38.0  52   0   0   0\n",
            "1 -0.0469 -0.0385  0.00542  0.01121  38.0  52   0   0   0\n",
            "2 -0.0469 -0.0385  0.00542  0.01121  38.0  52   0   0   0\n",
            "3 -0.0469 -0.0385  0.00542  0.01121  38.0  52   0   0   0\n",
            "4 -0.0469 -0.0385  0.00542  0.01121  38.0  52   0   0   0\n",
            "####TRAIN DATA#####\n",
            "         P1      P2       P3       P4    P5  P6  P7  P8  P9\n",
            "0   -0.0469 -0.0385  0.00542  0.01121  38.0  52   0   0   0\n",
            "1   -0.0469 -0.0385  0.00542  0.01121  38.0  52   0   0   0\n",
            "2   -0.0469 -0.0385  0.00542  0.01121  38.0  52   0   0   0\n",
            "3   -0.0469 -0.0385  0.00542  0.01121  38.0  52   0   0   0\n",
            "4   -0.0469 -0.0385  0.00542  0.01121  38.0  52   0   0   0\n",
            "..      ...     ...      ...      ...   ...  ..  ..  ..  ..\n",
            "795 -0.0469 -0.0385  0.00582  0.01091  38.0  52   0   0   0\n",
            "796 -0.0469 -0.0385  0.00582  0.01091  38.0  52   0   0   0\n",
            "797 -0.0469 -0.0385  0.00582  0.01091  38.0  52   0   0   0\n",
            "798 -0.0469 -0.0385  0.00582  0.01091  38.0  52   0   0   0\n",
            "799 -0.0469 -0.0385  0.00582  0.01091  38.0  52   0   0   0\n",
            "\n",
            "[800 rows x 9 columns]\n",
            "###################\n",
            "INPUT SHAPE:  (9, 1)\n",
            "Building model ...\n"
          ]
        },
        {
          "output_type": "stream",
          "name": "stderr",
          "text": [
            "WARNING:tensorflow:Layer lstm_11 will not use cuDNN kernels since it doesn't meet the criteria. It will use a generic GPU kernel as fallback when running on GPU.\n"
          ]
        },
        {
          "output_type": "stream",
          "name": "stdout",
          "text": [
            "Training model ...\n",
            "Epoch 1/50\n",
            "7/7 [==============================] - 6s 157ms/step - loss: 454.6731 - val_loss: 407.7164\n",
            "Epoch 2/50\n",
            "7/7 [==============================] - 1s 79ms/step - loss: 367.5991 - val_loss: 354.4633\n",
            "Epoch 3/50\n",
            "7/7 [==============================] - 0s 69ms/step - loss: 293.4836 - val_loss: 237.6962\n",
            "Epoch 4/50\n",
            "7/7 [==============================] - 0s 70ms/step - loss: 213.7905 - val_loss: 165.9696\n",
            "Epoch 5/50\n",
            "7/7 [==============================] - 0s 67ms/step - loss: 131.0651 - val_loss: 69.2980\n",
            "Epoch 6/50\n",
            "7/7 [==============================] - 0s 68ms/step - loss: 39.5943 - val_loss: 10.0310\n",
            "Epoch 7/50\n",
            "7/7 [==============================] - 1s 129ms/step - loss: 12.4403 - val_loss: 4.5385\n",
            "Epoch 8/50\n",
            "7/7 [==============================] - 1s 145ms/step - loss: 3.6882 - val_loss: 1.9894\n",
            "Epoch 9/50\n",
            "7/7 [==============================] - 1s 138ms/step - loss: 1.3199 - val_loss: 1.1211\n",
            "Epoch 10/50\n",
            "7/7 [==============================] - 1s 140ms/step - loss: 0.7653 - val_loss: 0.6607\n",
            "Epoch 11/50\n",
            "7/7 [==============================] - 1s 70ms/step - loss: 0.5454 - val_loss: 0.3489\n",
            "Epoch 12/50\n",
            "7/7 [==============================] - 0s 70ms/step - loss: 0.2903 - val_loss: 0.2306\n",
            "Epoch 13/50\n",
            "7/7 [==============================] - 1s 74ms/step - loss: 0.1952 - val_loss: 0.1688\n",
            "Epoch 14/50\n",
            "7/7 [==============================] - 0s 71ms/step - loss: 0.1522 - val_loss: 0.1267\n",
            "Epoch 15/50\n",
            "7/7 [==============================] - 0s 72ms/step - loss: 0.1180 - val_loss: 0.1106\n",
            "Epoch 16/50\n",
            "7/7 [==============================] - 1s 78ms/step - loss: 0.1062 - val_loss: 0.0968\n",
            "Epoch 17/50\n",
            "7/7 [==============================] - 0s 69ms/step - loss: 0.0950 - val_loss: 0.0888\n",
            "Epoch 18/50\n",
            "7/7 [==============================] - 0s 69ms/step - loss: 0.0864 - val_loss: 0.0813\n",
            "Epoch 19/50\n",
            "7/7 [==============================] - 0s 73ms/step - loss: 0.0789 - val_loss: 0.0733\n",
            "Epoch 20/50\n",
            "7/7 [==============================] - 0s 64ms/step - loss: 0.0716 - val_loss: 0.0680\n",
            "Epoch 21/50\n",
            "7/7 [==============================] - 0s 69ms/step - loss: 0.0652 - val_loss: 0.0609\n",
            "Epoch 22/50\n",
            "7/7 [==============================] - 0s 70ms/step - loss: 0.0597 - val_loss: 0.0551\n",
            "Epoch 23/50\n",
            "7/7 [==============================] - 0s 67ms/step - loss: 0.0544 - val_loss: 0.0513\n",
            "Epoch 24/50\n",
            "7/7 [==============================] - 1s 72ms/step - loss: 0.0500 - val_loss: 0.0451\n",
            "Epoch 25/50\n",
            "7/7 [==============================] - 0s 66ms/step - loss: 0.0461 - val_loss: 0.0422\n",
            "Epoch 26/50\n",
            "7/7 [==============================] - 0s 72ms/step - loss: 0.0423 - val_loss: 0.0390\n",
            "Epoch 27/50\n",
            "7/7 [==============================] - 0s 69ms/step - loss: 0.0389 - val_loss: 0.0367\n",
            "Epoch 28/50\n",
            "7/7 [==============================] - 0s 69ms/step - loss: 0.0362 - val_loss: 0.0322\n",
            "Epoch 29/50\n",
            "7/7 [==============================] - 0s 66ms/step - loss: 0.0340 - val_loss: 0.0303\n",
            "Epoch 30/50\n",
            "7/7 [==============================] - 0s 71ms/step - loss: 0.0321 - val_loss: 0.0280\n",
            "Epoch 31/50\n",
            "7/7 [==============================] - 1s 133ms/step - loss: 0.0296 - val_loss: 0.0268\n",
            "Epoch 32/50\n",
            "7/7 [==============================] - 1s 143ms/step - loss: 0.0281 - val_loss: 0.0247\n",
            "Epoch 33/50\n",
            "7/7 [==============================] - 1s 158ms/step - loss: 0.0264 - val_loss: 0.0236\n",
            "Epoch 34/50\n",
            "7/7 [==============================] - 1s 128ms/step - loss: 0.0252 - val_loss: 0.0223\n",
            "Epoch 35/50\n",
            "7/7 [==============================] - 1s 76ms/step - loss: 0.0238 - val_loss: 0.0209\n",
            "Epoch 36/50\n",
            "7/7 [==============================] - 1s 74ms/step - loss: 0.0229 - val_loss: 0.0207\n",
            "Epoch 37/50\n",
            "7/7 [==============================] - 0s 72ms/step - loss: 0.0222 - val_loss: 0.0198\n",
            "Epoch 38/50\n",
            "7/7 [==============================] - 0s 72ms/step - loss: 0.0217 - val_loss: 0.0185\n",
            "Epoch 39/50\n",
            "7/7 [==============================] - 1s 80ms/step - loss: 0.0205 - val_loss: 0.0184\n",
            "Epoch 40/50\n",
            "7/7 [==============================] - 0s 67ms/step - loss: 0.0203 - val_loss: 0.0168\n",
            "Epoch 41/50\n",
            "7/7 [==============================] - 0s 66ms/step - loss: 0.0192 - val_loss: 0.0170\n",
            "Epoch 42/50\n",
            "7/7 [==============================] - 0s 73ms/step - loss: 0.0184 - val_loss: 0.0156\n",
            "Epoch 43/50\n",
            "7/7 [==============================] - 0s 66ms/step - loss: 0.0180 - val_loss: 0.0173\n",
            "Epoch 44/50\n",
            "7/7 [==============================] - 0s 68ms/step - loss: 0.0181 - val_loss: 0.0163\n",
            "Epoch 45/50\n",
            "7/7 [==============================] - 0s 67ms/step - loss: 0.0172 - val_loss: 0.0152\n",
            "Epoch 46/50\n",
            "7/7 [==============================] - 0s 73ms/step - loss: 0.0167 - val_loss: 0.0146\n",
            "Epoch 47/50\n",
            "7/7 [==============================] - 1s 79ms/step - loss: 0.0161 - val_loss: 0.0138\n",
            "Epoch 48/50\n",
            "7/7 [==============================] - 1s 74ms/step - loss: 0.0156 - val_loss: 0.0132\n",
            "Epoch 49/50\n",
            "7/7 [==============================] - 1s 72ms/step - loss: 0.0153 - val_loss: 0.0123\n",
            "Epoch 50/50\n",
            "7/7 [==============================] - 0s 67ms/step - loss: 0.0152 - val_loss: 0.0118\n",
            "PREDICTIONS\n",
            "5306/5306 [==============================] - 43s 8ms/step\n"
          ]
        }
      ]
    },
    {
      "cell_type": "code",
      "source": [
        "test_predictions.shape"
      ],
      "metadata": {
        "colab": {
          "base_uri": "https://localhost:8080/"
        },
        "id": "4NN8yqQCPb9z",
        "outputId": "4e6e834f-cd6a-4f3d-c081-5da151100d00"
      },
      "execution_count": null,
      "outputs": [
        {
          "output_type": "execute_result",
          "data": {
            "text/plain": [
              "(169785, 9, 1)"
            ]
          },
          "metadata": {},
          "execution_count": 54
        }
      ]
    },
    {
      "cell_type": "code",
      "source": [
        "test_data.shape"
      ],
      "metadata": {
        "colab": {
          "base_uri": "https://localhost:8080/"
        },
        "id": "0KVHR02SPe8z",
        "outputId": "8700cae5-a3ce-45d1-8475-519ffae85320"
      },
      "execution_count": null,
      "outputs": [
        {
          "output_type": "execute_result",
          "data": {
            "text/plain": [
              "(169785, 9)"
            ]
          },
          "metadata": {},
          "execution_count": 55
        }
      ]
    },
    {
      "cell_type": "code",
      "source": [
        "tp = test_predictions.reshape(test_data.shape)"
      ],
      "metadata": {
        "id": "RJie8nFiPsUS"
      },
      "execution_count": null,
      "outputs": []
    },
    {
      "cell_type": "code",
      "source": [
        "mse = calculate_error(test_data, tp)"
      ],
      "metadata": {
        "colab": {
          "base_uri": "https://localhost:8080/"
        },
        "id": "QvDLzlFpP3c6",
        "outputId": "871be1a7-5df6-4eed-b9b0-307e044b0225"
      },
      "execution_count": null,
      "outputs": [
        {
          "output_type": "stream",
          "name": "stdout",
          "text": [
            "test_data shape (169785, 9)\n",
            "predictions shape (169785, 9)\n"
          ]
        }
      ]
    },
    {
      "cell_type": "markdown",
      "source": [],
      "metadata": {
        "id": "gx2vU7HyPbw7"
      }
    },
    {
      "cell_type": "code",
      "source": [
        "print(\"Mean Square Error = \", mse)\n",
        "anomalies = detect_anamolies(mse)\n",
        "print(\"ANOMALIES :\" ,anomalies)"
      ],
      "metadata": {
        "colab": {
          "base_uri": "https://localhost:8080/"
        },
        "id": "s_e1ce4AQCEK",
        "outputId": "87339f6c-9abe-431f-f930-9abad2a953f0"
      },
      "execution_count": null,
      "outputs": [
        {
          "output_type": "stream",
          "name": "stdout",
          "text": [
            "Mean Square Error =  800       0.007931\n",
            "801       0.007931\n",
            "802       0.007931\n",
            "803       0.007931\n",
            "804       0.007931\n",
            "            ...   \n",
            "170580         NaN\n",
            "170581         NaN\n",
            "170582         NaN\n",
            "170583         NaN\n",
            "170584         NaN\n",
            "Length: 169785, dtype: float64\n",
            "Threshold =  14.07\n",
            "ANOMALIES : [ 13072  13073  13074 ... 111039 111040 111041]\n"
          ]
        }
      ]
    },
    {
      "cell_type": "code",
      "source": [
        "anomalies.shape"
      ],
      "metadata": {
        "colab": {
          "base_uri": "https://localhost:8080/"
        },
        "id": "mUPRbtw8QLvR",
        "outputId": "4edd036e-1aad-4fe8-a5de-91c3db5ea8ae"
      },
      "execution_count": null,
      "outputs": [
        {
          "output_type": "execute_result",
          "data": {
            "text/plain": [
              "(4143,)"
            ]
          },
          "metadata": {},
          "execution_count": 59
        }
      ]
    },
    {
      "cell_type": "code",
      "source": [
        "df_temp = pd.read_csv(\"/content/Dataset 2 .csv\")\n"
      ],
      "metadata": {
        "id": "V5rD8rVbQP5h"
      },
      "execution_count": null,
      "outputs": []
    },
    {
      "cell_type": "code",
      "source": [
        "def unique(list1):\n",
        "\n",
        "    # insert the list to the set\n",
        "    list_set = set(list1)\n",
        "    # convert the set to the list\n",
        "    unique_list = (list(list_set))\n",
        "    for x in unique_list:\n",
        "        print (x)"
      ],
      "metadata": {
        "id": "csjt1mCNR85b"
      },
      "execution_count": null,
      "outputs": []
    },
    {
      "cell_type": "code",
      "source": [
        "dates = []\n",
        "for index in anomalies:\n",
        "  dates.append(df_temp.iloc[index,:1].values[0])\n",
        "\n",
        "unique(dates)"
      ],
      "metadata": {
        "colab": {
          "base_uri": "https://localhost:8080/"
        },
        "id": "1agib8JWQY9Q",
        "outputId": "b7081e7f-bcae-4806-e185-29bdfea0da8e"
      },
      "execution_count": null,
      "outputs": [
        {
          "output_type": "stream",
          "name": "stdout",
          "text": [
            "18-10-2011\n",
            "03-11-2011\n",
            "06-11-2011\n"
          ]
        }
      ]
    },
    {
      "cell_type": "code",
      "source": [
        "df.iloc[4508,:1].values[0]"
      ],
      "metadata": {
        "colab": {
          "base_uri": "https://localhost:8080/"
        },
        "id": "ItA4cywZQjvh",
        "outputId": "2e4f2a53-c5a9-42f3-fbd6-ef577449a71a"
      },
      "execution_count": null,
      "outputs": [
        {
          "output_type": "execute_result",
          "data": {
            "text/plain": [
              "-0.0469"
            ]
          },
          "metadata": {},
          "execution_count": 63
        }
      ]
    }
  ],
  "metadata": {
    "colab": {
      "provenance": [],
      "gpuType": "T4",
      "include_colab_link": true
    },
    "kernelspec": {
      "display_name": "Python 3",
      "name": "python3"
    },
    "language_info": {
      "name": "python"
    },
    "accelerator": "GPU"
  },
  "nbformat": 4,
  "nbformat_minor": 0
}